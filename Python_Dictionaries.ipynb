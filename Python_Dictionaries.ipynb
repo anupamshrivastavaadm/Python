{
  "nbformat": 4,
  "nbformat_minor": 0,
  "metadata": {
    "colab": {
      "provenance": []
    },
    "kernelspec": {
      "name": "python3",
      "display_name": "Python 3"
    },
    "language_info": {
      "name": "python"
    }
  },
  "cells": [
    {
      "cell_type": "markdown",
      "source": [
        "#Python Dictionaries"
      ],
      "metadata": {
        "id": "Y2xHVnD8JTLa"
      }
    },
    {
      "cell_type": "markdown",
      "source": [
        "Step 1: We create a dictionary named student with keys like name, age,\n",
        "\n",
        "and a nested dictionary for grades."
      ],
      "metadata": {
        "id": "JiB6eVIzHDgJ"
      }
    },
    {
      "cell_type": "code",
      "execution_count": 16,
      "metadata": {
        "id": "wNIBsnX3KZso"
      },
      "outputs": [],
      "source": [
        "# Creating a dictionary with nested data\n",
        "student = {\n",
        "    \"name\": \"Alice\",\n",
        "    \"age\": 20,\n",
        "    \"grades\": {\n",
        "        \"math\": 85,\n",
        "        \"science\": 90,\n",
        "        \"english\": 78\n",
        "    },\n",
        "    \"passed\": True\n",
        "}"
      ]
    },
    {
      "cell_type": "markdown",
      "source": [
        "Step 2: Access values by keys — for example, print the student’s name,\n",
        "\n",
        "age, and math grade."
      ],
      "metadata": {
        "id": "vBkemPT5HsAy"
      }
    },
    {
      "cell_type": "code",
      "source": [
        "# Accessing values\n",
        "print(\"Name:\", student[\"name\"])\n",
        "print(\"Age:\", student[\"age\"])\n",
        "print(\"Math Grade:\", student[\"grades\"][\"math\"])\n",
        "print(\"Science Grade:\", student[\"grades\"][\"science\"])\n",
        "print(\"English Grade:\", student[\"grades\"][\"english\"])\n"
      ],
      "metadata": {
        "colab": {
          "base_uri": "https://localhost:8080/"
        },
        "id": "-AsTvY35_k1x",
        "outputId": "3afb4958-4fc9-46eb-e26b-f3c48d07480f"
      },
      "execution_count": 17,
      "outputs": [
        {
          "output_type": "stream",
          "name": "stdout",
          "text": [
            "Name: Alice\n",
            "Age: 20\n",
            "Math Grade: 85\n",
            "Science Grade: 90\n",
            "English Grade: 78\n"
          ]
        }
      ]
    },
    {
      "cell_type": "markdown",
      "source": [
        "Step 3: Add a new key email with the student’s email address."
      ],
      "metadata": {
        "id": "3JsCq499HyOK"
      }
    },
    {
      "cell_type": "code",
      "source": [
        "# Adding a new key\n",
        "student[\"email\"] = \"alice@example.com\"\n"
      ],
      "metadata": {
        "id": "JCAUPam3_npH"
      },
      "execution_count": 18,
      "outputs": []
    },
    {
      "cell_type": "markdown",
      "source": [
        "Step 4: Print the updated dictionary showing the new email."
      ],
      "metadata": {
        "id": "4p0SNb0oH2Wx"
      }
    },
    {
      "cell_type": "code",
      "source": [
        "# Print added Email\n",
        "print(\"Name:\", student[\"name\"])\n",
        "print(\"Age:\", student[\"age\"])\n",
        "print(\"Email:\", student[\"email\"])\n",
        "print(\"Math Grade:\", student[\"grades\"][\"math\"])\n",
        "print(\"Science Grade:\", student[\"grades\"][\"science\"])\n",
        "print(\"English Grade:\", student[\"grades\"][\"english\"])"
      ],
      "metadata": {
        "colab": {
          "base_uri": "https://localhost:8080/"
        },
        "id": "q5c62kKV_1VP",
        "outputId": "b61afa58-8186-4985-f771-3b84ce2c39e1"
      },
      "execution_count": 19,
      "outputs": [
        {
          "output_type": "stream",
          "name": "stdout",
          "text": [
            "Name: Alice\n",
            "Age: 20\n",
            "Email: alice@example.com\n",
            "Math Grade: 85\n",
            "Science Grade: 90\n",
            "English Grade: 78\n"
          ]
        }
      ]
    },
    {
      "cell_type": "markdown",
      "source": [
        "Step 5: Update the student’s age from 20 to 21."
      ],
      "metadata": {
        "id": "2MTpisKfH5XJ"
      }
    },
    {
      "cell_type": "code",
      "source": [
        "# Updating age\n",
        "student[\"age\"] = 21"
      ],
      "metadata": {
        "id": "NZ_MFvSV_0Gh"
      },
      "execution_count": 20,
      "outputs": []
    },
    {
      "cell_type": "markdown",
      "source": [
        "Step 6: Print the updated age to confirm the change."
      ],
      "metadata": {
        "id": "ZvwO3x8jH-JZ"
      }
    },
    {
      "cell_type": "code",
      "source": [
        "# Age updated\n",
        "print(\"Name:\", student[\"name\"])\n",
        "print(\"Age:\", student[\"age\"])\n",
        "print(\"Email:\", student[\"email\"])\n",
        "print(\"Math Grade:\", student[\"grades\"][\"math\"])\n",
        "print(\"Science Grade:\", student[\"grades\"][\"science\"])\n",
        "print(\"English Grade:\", student[\"grades\"][\"english\"])"
      ],
      "metadata": {
        "colab": {
          "base_uri": "https://localhost:8080/"
        },
        "id": "gY3Vh_p5AL3w",
        "outputId": "9f846c0d-7f04-4896-d757-9eef60b14783"
      },
      "execution_count": 21,
      "outputs": [
        {
          "output_type": "stream",
          "name": "stdout",
          "text": [
            "Name: Alice\n",
            "Age: 21\n",
            "Email: alice@example.com\n",
            "Math Grade: 85\n",
            "Science Grade: 90\n",
            "English Grade: 78\n"
          ]
        }
      ]
    },
    {
      "cell_type": "markdown",
      "source": [
        "Step 7: Print if the student has passed, stored in the passed key."
      ],
      "metadata": {
        "id": "sWY7UxTrIAhI"
      }
    },
    {
      "cell_type": "code",
      "source": [
        "# Print student passed\n",
        "print(\"Name:\", student[\"name\"])\n",
        "print(\"Age:\", student[\"age\"])\n",
        "print(\"Email:\", student[\"email\"])\n",
        "print(\"Math Grade:\", student[\"grades\"][\"math\"])\n",
        "print(\"Science Grade:\", student[\"grades\"][\"science\"])\n",
        "print(\"English Grade:\", student[\"grades\"][\"english\"])\n",
        "print(\"Passed:\", student[\"passed\"])"
      ],
      "metadata": {
        "colab": {
          "base_uri": "https://localhost:8080/"
        },
        "id": "P938WB5xAh6A",
        "outputId": "da420680-2081-48f7-c59e-d5d97b0597e5"
      },
      "execution_count": 22,
      "outputs": [
        {
          "output_type": "stream",
          "name": "stdout",
          "text": [
            "Name: Alice\n",
            "Age: 21\n",
            "Email: alice@example.com\n",
            "Math Grade: 85\n",
            "Science Grade: 90\n",
            "English Grade: 78\n",
            "Passed: True\n"
          ]
        }
      ]
    },
    {
      "cell_type": "markdown",
      "source": [
        "Step 8: Delete the passed key since we no longer need it."
      ],
      "metadata": {
        "id": "DOFH3CTtIEhR"
      }
    },
    {
      "cell_type": "code",
      "source": [
        "# Deleting a key\n",
        "del student[\"passed\"]"
      ],
      "metadata": {
        "id": "eU1869Rj_3BY"
      },
      "execution_count": 23,
      "outputs": []
    },
    {
      "cell_type": "markdown",
      "source": [
        "Step 9: Confirm it’s deleted."
      ],
      "metadata": {
        "id": "Jy4E495gIJSA"
      }
    },
    {
      "cell_type": "code",
      "source": [
        "# Age updated\n",
        "print(\"Name:\", student[\"name\"])\n",
        "print(\"Age:\", student[\"age\"])\n",
        "print(\"Email:\", student[\"email\"])\n",
        "print(\"Math Grade:\", student[\"grades\"][\"math\"])\n",
        "print(\"Science Grade:\", student[\"grades\"][\"science\"])\n",
        "print(\"English Grade:\", student[\"grades\"][\"english\"])\n",
        "print(\"Passed:\", student[\"passed\"])"
      ],
      "metadata": {
        "colab": {
          "base_uri": "https://localhost:8080/",
          "height": 280
        },
        "id": "TvtsyQm-AQSI",
        "outputId": "20b15c60-342d-439e-ba91-eb847dbdc646"
      },
      "execution_count": 24,
      "outputs": [
        {
          "output_type": "stream",
          "name": "stdout",
          "text": [
            "Name: Alice\n",
            "Age: 21\n",
            "Email: alice@example.com\n",
            "Math Grade: 85\n",
            "Science Grade: 90\n",
            "English Grade: 78\n"
          ]
        },
        {
          "output_type": "error",
          "ename": "KeyError",
          "evalue": "'passed'",
          "traceback": [
            "\u001b[0;31m---------------------------------------------------------------------------\u001b[0m",
            "\u001b[0;31mKeyError\u001b[0m                                  Traceback (most recent call last)",
            "\u001b[0;32m/tmp/ipython-input-24-3121101833.py\u001b[0m in \u001b[0;36m<cell line: 0>\u001b[0;34m()\u001b[0m\n\u001b[1;32m      6\u001b[0m \u001b[0mprint\u001b[0m\u001b[0;34m(\u001b[0m\u001b[0;34m\"Science Grade:\"\u001b[0m\u001b[0;34m,\u001b[0m \u001b[0mstudent\u001b[0m\u001b[0;34m[\u001b[0m\u001b[0;34m\"grades\"\u001b[0m\u001b[0;34m]\u001b[0m\u001b[0;34m[\u001b[0m\u001b[0;34m\"science\"\u001b[0m\u001b[0;34m]\u001b[0m\u001b[0;34m)\u001b[0m\u001b[0;34m\u001b[0m\u001b[0;34m\u001b[0m\u001b[0m\n\u001b[1;32m      7\u001b[0m \u001b[0mprint\u001b[0m\u001b[0;34m(\u001b[0m\u001b[0;34m\"English Grade:\"\u001b[0m\u001b[0;34m,\u001b[0m \u001b[0mstudent\u001b[0m\u001b[0;34m[\u001b[0m\u001b[0;34m\"grades\"\u001b[0m\u001b[0;34m]\u001b[0m\u001b[0;34m[\u001b[0m\u001b[0;34m\"english\"\u001b[0m\u001b[0;34m]\u001b[0m\u001b[0;34m)\u001b[0m\u001b[0;34m\u001b[0m\u001b[0;34m\u001b[0m\u001b[0m\n\u001b[0;32m----> 8\u001b[0;31m \u001b[0mprint\u001b[0m\u001b[0;34m(\u001b[0m\u001b[0;34m\"Passed:\"\u001b[0m\u001b[0;34m,\u001b[0m \u001b[0mstudent\u001b[0m\u001b[0;34m[\u001b[0m\u001b[0;34m\"passed\"\u001b[0m\u001b[0;34m]\u001b[0m\u001b[0;34m)\u001b[0m\u001b[0;34m\u001b[0m\u001b[0;34m\u001b[0m\u001b[0m\n\u001b[0m",
            "\u001b[0;31mKeyError\u001b[0m: 'passed'"
          ]
        }
      ]
    },
    {
      "cell_type": "markdown",
      "source": [
        "Step 10: Loop through the dictionary’s keys and values, printing each pair."
      ],
      "metadata": {
        "id": "GhH0pzaYIM4R"
      }
    },
    {
      "cell_type": "code",
      "source": [
        "# Looping through keys and values\n",
        "for key, value in student.items():\n",
        "    print(f\"{key}: {value}\")"
      ],
      "metadata": {
        "colab": {
          "base_uri": "https://localhost:8080/"
        },
        "id": "2KezFRe9_4PY",
        "outputId": "0a36b315-904b-4ba2-e4f0-553abfed951a"
      },
      "execution_count": 25,
      "outputs": [
        {
          "output_type": "stream",
          "name": "stdout",
          "text": [
            "name: Alice\n",
            "age: 21\n",
            "grades: {'math': 85, 'science': 90, 'english': 78}\n",
            "email: alice@example.com\n"
          ]
        }
      ]
    },
    {
      "cell_type": "markdown",
      "source": [
        "Step 11: Check if the grades key exists to avoid errors."
      ],
      "metadata": {
        "id": "VJuP_j-_IVvR"
      }
    },
    {
      "cell_type": "code",
      "source": [
        "# Checking if a key exists\n",
        "if \"grades\" in student:\n",
        "    print(\"Grades are available.\")"
      ],
      "metadata": {
        "colab": {
          "base_uri": "https://localhost:8080/"
        },
        "id": "gQti2R9l_5IA",
        "outputId": "a95ae668-837e-45d0-e353-61aa753527c3"
      },
      "execution_count": 26,
      "outputs": [
        {
          "output_type": "stream",
          "name": "stdout",
          "text": [
            "Grades are available.\n"
          ]
        }
      ]
    },
    {
      "cell_type": "markdown",
      "source": [
        "Step 12: Use dictionary comprehension to convert numeric grades into\n",
        "\n",
        "“Pass” or “Fail” based on a threshold of 60."
      ],
      "metadata": {
        "id": "BtW6sq4PIYOx"
      }
    },
    {
      "cell_type": "code",
      "source": [
        "# Dictionary comprehension – convert grades to pass/fail\n",
        "pass_fail = {subject: \"Pass\" if mark >= 60 else \"Fail\"\n",
        "             for subject, mark in student[\"grades\"].items()}\n"
      ],
      "metadata": {
        "id": "Qcsnkotm_58_"
      },
      "execution_count": 27,
      "outputs": []
    },
    {
      "cell_type": "markdown",
      "source": [
        "Step 13: Print the pass or fail result dictionary."
      ],
      "metadata": {
        "id": "XmU09llrIgCp"
      }
    },
    {
      "cell_type": "code",
      "source": [
        "print(\"Pass/Fail:\", pass_fail)"
      ],
      "metadata": {
        "id": "1m5w4BU6_7Fg",
        "colab": {
          "base_uri": "https://localhost:8080/"
        },
        "outputId": "6f658b85-69b7-4792-8ee9-f19ed809f7cd"
      },
      "execution_count": 28,
      "outputs": [
        {
          "output_type": "stream",
          "name": "stdout",
          "text": [
            "Pass/Fail: {'math': 'Pass', 'science': 'Pass', 'english': 'Pass'}\n"
          ]
        }
      ]
    },
    {
      "cell_type": "markdown",
      "source": [
        "And that’s how you use Python dictionaries for storing and manipulating\n",
        "\n",
        "structured data."
      ],
      "metadata": {
        "id": "VUul6RCZImIB"
      }
    }
  ]
}