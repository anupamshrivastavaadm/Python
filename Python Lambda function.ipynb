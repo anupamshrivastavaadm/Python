{
  "nbformat": 4,
  "nbformat_minor": 0,
  "metadata": {
    "colab": {
      "provenance": []
    },
    "kernelspec": {
      "name": "python3",
      "display_name": "Python 3"
    },
    "language_info": {
      "name": "python"
    }
  },
  "cells": [
    {
      "cell_type": "markdown",
      "source": [
        "#Python Lambda"
      ],
      "metadata": {
        "id": "Y2xHVnD8JTLa"
      }
    },
    {
      "cell_type": "markdown",
      "source": [
        "A Python lambda is a way to create small, anonymous (i.e., unnamed)\n",
        "\n",
        "functions in a single line of code. It's often used for short, simple\n",
        "\n",
        "operations, especially where defining a full function with def\n",
        "\n",
        "would be overkill.\n"
      ],
      "metadata": {
        "id": "JiB6eVIzHDgJ"
      }
    },
    {
      "cell_type": "markdown",
      "source": [
        "Syntax:\n",
        "  \n",
        "    lambda arguments: expression\n",
        "\n",
        "*   arguments: The parameters the function takes.\n",
        "*   expression: The expression it returns."
      ],
      "metadata": {
        "id": "LsdAN4sXNG26"
      }
    },
    {
      "cell_type": "markdown",
      "source": [
        "Simple Addition"
      ],
      "metadata": {
        "id": "sRPs3FzFMHfM"
      }
    },
    {
      "cell_type": "code",
      "source": [
        "# Regular function\n",
        "def add(x, y):\n",
        "    return x + y\n",
        "print(add(2, 3))"
      ],
      "metadata": {
        "colab": {
          "base_uri": "https://localhost:8080/"
        },
        "id": "8n6c0wFc4iCX",
        "outputId": "6ad9a5b3-e8ae-441e-fa2a-c69a5ebc4215"
      },
      "execution_count": 8,
      "outputs": [
        {
          "output_type": "stream",
          "name": "stdout",
          "text": [
            "5\n"
          ]
        }
      ]
    },
    {
      "cell_type": "code",
      "source": [
        "# Lambda version\n",
        "add = lambda x, y: x + y\n",
        "print(add(2, 3))\n"
      ],
      "metadata": {
        "colab": {
          "base_uri": "https://localhost:8080/"
        },
        "id": "XIsWPaTSLuEc",
        "outputId": "214cb3df-1615-4e70-ffd7-5e7f1ce39b40"
      },
      "execution_count": 9,
      "outputs": [
        {
          "output_type": "stream",
          "name": "stdout",
          "text": [
            "5\n"
          ]
        }
      ]
    },
    {
      "cell_type": "markdown",
      "source": [
        "Square a number"
      ],
      "metadata": {
        "id": "YkNYQLTVz1WO"
      }
    },
    {
      "cell_type": "code",
      "execution_count": 10,
      "metadata": {
        "id": "wNIBsnX3KZso",
        "colab": {
          "base_uri": "https://localhost:8080/"
        },
        "outputId": "401112f2-3692-4fb8-c3a3-ad4ab60e2c9d"
      },
      "outputs": [
        {
          "output_type": "stream",
          "name": "stdout",
          "text": [
            "16\n"
          ]
        }
      ],
      "source": [
        "square = lambda x: x * x\n",
        "print(square(4))\n"
      ]
    },
    {
      "cell_type": "markdown",
      "source": [
        "Used with map()"
      ],
      "metadata": {
        "id": "vBkemPT5HsAy"
      }
    },
    {
      "cell_type": "code",
      "source": [
        "nums = [1, 2, 3, 4]\n",
        "squares = list(map(lambda x: x**2, nums))\n",
        "print(squares)\n"
      ],
      "metadata": {
        "colab": {
          "base_uri": "https://localhost:8080/"
        },
        "id": "-AsTvY35_k1x",
        "outputId": "8cdac237-b269-4ea0-8873-630dbb115ffa"
      },
      "execution_count": 11,
      "outputs": [
        {
          "output_type": "stream",
          "name": "stdout",
          "text": [
            "[1, 4, 9, 16]\n"
          ]
        }
      ]
    },
    {
      "cell_type": "markdown",
      "source": [
        "Used with filter()"
      ],
      "metadata": {
        "id": "rperkaFIFLYK"
      }
    },
    {
      "cell_type": "code",
      "source": [
        "nums = [1, 2, 3, 4, 5]\n",
        "evens = list(filter(lambda x: x % 2 == 0, nums))\n",
        "print(evens)"
      ],
      "metadata": {
        "colab": {
          "base_uri": "https://localhost:8080/"
        },
        "id": "ZqMPyHLnFF4V",
        "outputId": "87546116-3833-4a0d-face-d0960bb0f45d"
      },
      "execution_count": 12,
      "outputs": [
        {
          "output_type": "stream",
          "name": "stdout",
          "text": [
            "[2, 4]\n"
          ]
        }
      ]
    },
    {
      "cell_type": "markdown",
      "source": [
        "Used with sorted() for custom sorting"
      ],
      "metadata": {
        "id": "9PbLVMzyFSWb"
      }
    },
    {
      "cell_type": "code",
      "source": [
        "pairs = [(1, 2), (3, 1), (5, 0)]\n",
        "sorted_pairs = sorted(pairs, key=lambda x: x[1])\n",
        "print(sorted_pairs)\n"
      ],
      "metadata": {
        "colab": {
          "base_uri": "https://localhost:8080/"
        },
        "id": "rTouBno7FF1i",
        "outputId": "73d52b76-3fda-40f8-f6d5-047779bcd534"
      },
      "execution_count": 15,
      "outputs": [
        {
          "output_type": "stream",
          "name": "stdout",
          "text": [
            "[(5, 0), (3, 1), (1, 2)]\n"
          ]
        }
      ]
    },
    {
      "cell_type": "markdown",
      "source": [
        "✅ Use lambda:\n",
        "*   When the function is simple and used only once or twice.\n",
        "*   For inline operations (e.g., with map, filter, sorted, reduce).\n",
        "\n",
        "❌ Avoid lambda:\n",
        "*   When the function is complex or reused in multiple places.\n",
        "*   When readability is important (use def instead)."
      ],
      "metadata": {
        "id": "AWSiximm6A2V"
      }
    },
    {
      "cell_type": "markdown",
      "source": [
        "#Follow @Code_with_AS for more..."
      ],
      "metadata": {
        "id": "6ut5m8tYyp4q"
      }
    }
  ]
}