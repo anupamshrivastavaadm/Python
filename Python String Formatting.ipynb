{
  "nbformat": 4,
  "nbformat_minor": 0,
  "metadata": {
    "colab": {
      "provenance": []
    },
    "kernelspec": {
      "name": "python3",
      "display_name": "Python 3"
    },
    "language_info": {
      "name": "python"
    }
  },
  "cells": [
    {
      "cell_type": "markdown",
      "source": [
        "#Python String Formatting"
      ],
      "metadata": {
        "id": "Y2xHVnD8JTLa"
      }
    },
    {
      "cell_type": "markdown",
      "source": [
        "String formatting is essential in Python because it helps you\n",
        "\n",
        "dynamically insert, format, and display values like variables,\n",
        "\n",
        "numbers, dates, etc in strings in a readable and customizable way.\n"
      ],
      "metadata": {
        "id": "3EmLVe5VMPS-"
      }
    },
    {
      "cell_type": "code",
      "source": [
        "name = \"AS\"\n",
        "age = 32\n",
        "pi = 3.14159"
      ],
      "metadata": {
        "id": "iaej-YODZhS4"
      },
      "execution_count": null,
      "outputs": []
    },
    {
      "cell_type": "markdown",
      "source": [
        "- f-Strings (Python 3.6+)"
      ],
      "metadata": {
        "id": "Cx0yppjuPxdN"
      }
    },
    {
      "cell_type": "code",
      "source": [
        "print(f\"My name is {name} and I am {age} years old.\")\n",
        "print(f\"Pi rounded to 2 decimal places is {pi:.2f}\")\n"
      ],
      "metadata": {
        "colab": {
          "base_uri": "https://localhost:8080/"
        },
        "id": "4sy_nH-eZhQA",
        "outputId": "88085db9-58c9-4ea1-fcce-072281acb74c"
      },
      "execution_count": null,
      "outputs": [
        {
          "output_type": "stream",
          "name": "stdout",
          "text": [
            "My name is AS and I am 32 years old.\n",
            "Pi rounded to 2 decimal places is 3.14\n"
          ]
        }
      ]
    },
    {
      "cell_type": "markdown",
      "source": [
        "- str.format() Method"
      ],
      "metadata": {
        "id": "mtkzXk6BDAr9"
      }
    },
    {
      "cell_type": "code",
      "source": [
        "print(\"My name is {} and I am {} years old.\".format(name, age))\n",
        "print(\"My name is {0} and I am {1} years old.\".format(name, age))\n",
        "print(\"My name is {n} and I am {a} years old.\".format(n=name, a=age))\n",
        "print(\"Pi rounded to 2 decimal places is {:.2f}\".format(pi))\n"
      ],
      "metadata": {
        "colab": {
          "base_uri": "https://localhost:8080/"
        },
        "id": "6Q37uwQBDDoH",
        "outputId": "55c35000-9cf6-4317-c3cd-c33cd608616e"
      },
      "execution_count": null,
      "outputs": [
        {
          "output_type": "stream",
          "name": "stdout",
          "text": [
            "My name is AS and I am 32 years old.\n",
            "My name is AS and I am 32 years old.\n",
            "My name is AS and I am 32 years old.\n",
            "Pi rounded to 2 decimal places is 3.14\n"
          ]
        }
      ]
    },
    {
      "cell_type": "markdown",
      "source": [
        "- Percent % Formatting (Old Style)"
      ],
      "metadata": {
        "id": "xXGnQG2RDPge"
      }
    },
    {
      "cell_type": "code",
      "source": [
        "print(\"My name is %s and I am %d years old.\" % (name, age))\n",
        "print(\"Pi rounded to 2 decimal places is %.2f\" % pi)\n"
      ],
      "metadata": {
        "colab": {
          "base_uri": "https://localhost:8080/"
        },
        "id": "kvvEWZocDDlP",
        "outputId": "5983f75b-cb18-4ddb-8c1c-2110008a6d32"
      },
      "execution_count": null,
      "outputs": [
        {
          "output_type": "stream",
          "name": "stdout",
          "text": [
            "My name is AS and I am 32 years old.\n",
            "Pi rounded to 2 decimal places is 3.14\n"
          ]
        }
      ]
    },
    {
      "cell_type": "markdown",
      "source": [
        "- Template Strings (from string module)"
      ],
      "metadata": {
        "id": "VK1GYwXADTsP"
      }
    },
    {
      "cell_type": "code",
      "source": [
        "from string import Template\n",
        "\n",
        "template = Template(\"My name is $name and I am $age years old.\")\n",
        "print(template.substitute(name=name, age=age))\n"
      ],
      "metadata": {
        "colab": {
          "base_uri": "https://localhost:8080/"
        },
        "id": "8UGIU_1ZDDiE",
        "outputId": "056b018a-d7b8-4896-a8f2-a5a266c3b05c"
      },
      "execution_count": null,
      "outputs": [
        {
          "output_type": "stream",
          "name": "stdout",
          "text": [
            "My name is AS and I am 32 years old.\n"
          ]
        }
      ]
    },
    {
      "cell_type": "markdown",
      "source": [
        "#Here’s why you need string formatting:\n",
        "\n",
        "- Dynamic Output\n",
        "\n",
        "- Readable and Clean Code\n",
        "\n",
        "- Precision and Control\n",
        "\n",
        "- Reusability and Templates\n",
        "\n",
        "- Safe Formatting (e.g., with Templates)"
      ],
      "metadata": {
        "id": "ustvDAQ5ZoQG"
      }
    },
    {
      "cell_type": "markdown",
      "source": [
        "# 👉👉👉 Follow Code_with_AS 👈👈👈\n",
        "\n",
        "#for more..."
      ],
      "metadata": {
        "id": "kNcEB3wGPN1M"
      }
    }
  ]
}