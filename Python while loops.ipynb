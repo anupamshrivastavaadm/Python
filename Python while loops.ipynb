{
  "nbformat": 4,
  "nbformat_minor": 0,
  "metadata": {
    "colab": {
      "provenance": []
    },
    "kernelspec": {
      "name": "python3",
      "display_name": "Python 3"
    },
    "language_info": {
      "name": "python"
    }
  },
  "cells": [
    {
      "cell_type": "markdown",
      "source": [
        "#Python While Loops"
      ],
      "metadata": {
        "id": "Y2xHVnD8JTLa"
      }
    },
    {
      "cell_type": "markdown",
      "source": [
        "In Python, a while loop is used to execute a block of code\n",
        "\n",
        "repeatedly as long as a condition is true.\n",
        "\n"
      ],
      "metadata": {
        "id": "JiB6eVIzHDgJ"
      }
    },
    {
      "cell_type": "code",
      "source": [
        "count = 1\n",
        "while count <= 5:\n",
        "    print(\"Count is:\", count)\n",
        "    count += 1"
      ],
      "metadata": {
        "colab": {
          "base_uri": "https://localhost:8080/"
        },
        "id": "8n6c0wFc4iCX",
        "outputId": "5c4841f6-7e71-4587-84fc-95980304b4ad"
      },
      "execution_count": null,
      "outputs": [
        {
          "output_type": "stream",
          "name": "stdout",
          "text": [
            "Count is: 1\n",
            "Count is: 2\n",
            "Count is: 3\n",
            "Count is: 4\n",
            "Count is: 5\n"
          ]
        }
      ]
    },
    {
      "cell_type": "markdown",
      "source": [
        "Infinite Loop (Be Careful!)"
      ],
      "metadata": {
        "id": "YkNYQLTVz1WO"
      }
    },
    {
      "cell_type": "code",
      "execution_count": null,
      "metadata": {
        "id": "wNIBsnX3KZso",
        "colab": {
          "base_uri": "https://localhost:8080/"
        },
        "outputId": "0009cea7-a915-4e81-89c3-9cca83356b57"
      },
      "outputs": [
        {
          "output_type": "stream",
          "name": "stdout",
          "text": [
            "This will run forever unless you break it.\n"
          ]
        }
      ],
      "source": [
        "while True:\n",
        "    print(\"This will run forever unless you break it.\")\n",
        "    break  # Use 'break' to stop\n"
      ]
    },
    {
      "cell_type": "markdown",
      "source": [
        "Breaking the Loop: Use break to exit the loop manually."
      ],
      "metadata": {
        "id": "vBkemPT5HsAy"
      }
    },
    {
      "cell_type": "code",
      "source": [
        "n = 0\n",
        "while n < 10:\n",
        "    if n == 5:\n",
        "        break\n",
        "    print(n)\n",
        "    n += 1\n"
      ],
      "metadata": {
        "colab": {
          "base_uri": "https://localhost:8080/"
        },
        "id": "-AsTvY35_k1x",
        "outputId": "d73aa285-449a-4271-f170-a9a26b1f89ce"
      },
      "execution_count": null,
      "outputs": [
        {
          "output_type": "stream",
          "name": "stdout",
          "text": [
            "0\n",
            "1\n",
            "2\n",
            "3\n",
            "4\n"
          ]
        }
      ]
    },
    {
      "cell_type": "markdown",
      "source": [
        "Skipping with continue: Use continue to skip to the next iteration."
      ],
      "metadata": {
        "id": "rperkaFIFLYK"
      }
    },
    {
      "cell_type": "code",
      "source": [
        "n = 0\n",
        "while n < 5:\n",
        "    n += 1\n",
        "    if n == 3:\n",
        "        continue\n",
        "    print(n)\n"
      ],
      "metadata": {
        "colab": {
          "base_uri": "https://localhost:8080/"
        },
        "id": "ZqMPyHLnFF4V",
        "outputId": "8da46656-12b3-4eee-8595-8d1b45f29c2e"
      },
      "execution_count": null,
      "outputs": [
        {
          "output_type": "stream",
          "name": "stdout",
          "text": [
            "1\n",
            "2\n",
            "4\n",
            "5\n"
          ]
        }
      ]
    },
    {
      "cell_type": "markdown",
      "source": [
        "Optional else with while: The else block runs only if the loop\n",
        "\n",
        "wasn't broken."
      ],
      "metadata": {
        "id": "9PbLVMzyFSWb"
      }
    },
    {
      "cell_type": "code",
      "source": [
        "n = 0\n",
        "while n < 3:\n",
        "    print(n)\n",
        "    n += 1\n",
        "else:\n",
        "    print(\"Loop completed without break\")\n"
      ],
      "metadata": {
        "colab": {
          "base_uri": "https://localhost:8080/"
        },
        "id": "rTouBno7FF1i",
        "outputId": "777d582b-5029-48b7-d9e4-41570b652cd1"
      },
      "execution_count": null,
      "outputs": [
        {
          "output_type": "stream",
          "name": "stdout",
          "text": [
            "0\n",
            "1\n",
            "2\n",
            "Loop completed without break\n"
          ]
        }
      ]
    },
    {
      "cell_type": "markdown",
      "source": [
        "*   Use 'while' when you need a loop that runs based on a condition.\n",
        "*   Remember 'break' can stop it early.\n",
        "*   'continue' can skip a step\n",
        "*   'else' can give you a final message when it ends cleanly"
      ],
      "metadata": {
        "id": "AWSiximm6A2V"
      }
    },
    {
      "cell_type": "markdown",
      "source": [
        "#Follow @Code_with_AS for more..."
      ],
      "metadata": {
        "id": "6ut5m8tYyp4q"
      }
    }
  ]
}