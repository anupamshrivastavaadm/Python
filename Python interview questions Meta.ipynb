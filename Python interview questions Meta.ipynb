{
  "nbformat": 4,
  "nbformat_minor": 0,
  "metadata": {
    "colab": {
      "provenance": []
    },
    "kernelspec": {
      "name": "python3",
      "display_name": "Python 3"
    },
    "language_info": {
      "name": "python"
    }
  },
  "cells": [
    {
      "cell_type": "markdown",
      "source": [
        "#Python interview questions Meta"
      ],
      "metadata": {
        "id": "Y2xHVnD8JTLa"
      }
    },
    {
      "cell_type": "markdown",
      "source": [
        "#Lambda Function\n",
        "\n",
        "🔹Question:\n",
        "How do you filter out even numbers from a list\n",
        "\n",
        "using a lambda function?"
      ],
      "metadata": {
        "id": "ajGU8dpn-JLk"
      }
    },
    {
      "cell_type": "code",
      "source": [
        "nums = [1, 2, 3, 4, 5, 6]\n",
        "\n",
        "# Filter even numbers using lambda\n",
        "even_nums = list(filter(lambda x: x % 2 == 0, nums))\n",
        "\n",
        "print(even_nums)  # Output: [2, 4, 6]\n"
      ],
      "metadata": {
        "colab": {
          "base_uri": "https://localhost:8080/"
        },
        "id": "GVOxZNs_M1WT",
        "outputId": "2603b14e-36d6-4141-f4fa-f7b1852e8705"
      },
      "execution_count": 4,
      "outputs": [
        {
          "output_type": "stream",
          "name": "stdout",
          "text": [
            "[2, 4, 6]\n"
          ]
        }
      ]
    },
    {
      "cell_type": "markdown",
      "source": [
        "Note: filter() applies the lambda function to each item in nums.\n",
        "\n",
        "The lambda returns True for even numbers."
      ],
      "metadata": {
        "id": "SHY4mxXn-Z_t"
      }
    },
    {
      "cell_type": "markdown",
      "source": [
        "#Loops\n",
        "\n",
        "🔹Question:\n",
        "Write a function that returns the factorial of a\n",
        "\n",
        "number using a loop."
      ],
      "metadata": {
        "id": "_AZLZ5TY-ikM"
      }
    },
    {
      "cell_type": "code",
      "source": [
        "def factorial(n):\n",
        "    result = 1\n",
        "    for i in range(2, n + 1):\n",
        "        result *= i\n",
        "    return result\n",
        "\n",
        "print(factorial(5))  # Output: 120\n"
      ],
      "metadata": {
        "colab": {
          "base_uri": "https://localhost:8080/"
        },
        "id": "2xaDBDq7-Zpc",
        "outputId": "8178a9ab-1840-463a-cca2-9554d79a5856"
      },
      "execution_count": 5,
      "outputs": [
        {
          "output_type": "stream",
          "name": "stdout",
          "text": [
            "120\n"
          ]
        }
      ]
    },
    {
      "cell_type": "markdown",
      "source": [
        "Note:\n",
        "A for loop is used to multiply numbers from 2 up to n."
      ],
      "metadata": {
        "id": "Txunv3sF-s02"
      }
    },
    {
      "cell_type": "markdown",
      "source": [
        "#Conditional Statements\n",
        "🔹Question:\n",
        "Write a function to check if a string is a palindrome."
      ],
      "metadata": {
        "id": "ZOUbC77m-xI-"
      }
    },
    {
      "cell_type": "code",
      "source": [
        "def is_palindrome(s):\n",
        "    s = s.lower().replace(\" \", \"\")\n",
        "    if s == s[::-1]:\n",
        "        return True\n",
        "    return False\n",
        "\n",
        "print(is_palindrome(\"Race car\"))  # Output: True\n"
      ],
      "metadata": {
        "colab": {
          "base_uri": "https://localhost:8080/"
        },
        "id": "08SlFKPe-Xj8",
        "outputId": "eccb139d-c05d-40ae-ebbf-4d8c51732e6a"
      },
      "execution_count": 6,
      "outputs": [
        {
          "output_type": "stream",
          "name": "stdout",
          "text": [
            "True\n"
          ]
        }
      ]
    },
    {
      "cell_type": "markdown",
      "source": [
        "Note:\n",
        "We normalize the string and check if it’s the same forwards\n",
        "\n",
        "and backwards."
      ],
      "metadata": {
        "id": "VvdBkx2h-35E"
      }
    },
    {
      "cell_type": "markdown",
      "source": [
        "#Dictionaries\n",
        "🔹Question:\n",
        "Write a function that returns a dictionary mapping\n",
        "\n",
        "characters to their counts in a string."
      ],
      "metadata": {
        "id": "MU_yM-rl-9yc"
      }
    },
    {
      "cell_type": "code",
      "source": [
        "def char_count(s):\n",
        "    count = {}\n",
        "    for ch in s:\n",
        "        count[ch] = count.get(ch, 0) + 1\n",
        "    return count\n",
        "\n",
        "print(char_count(\"meta\"))\n",
        "# Output: {'m': 1, 'e': 1, 't': 1, 'a': 1}\n"
      ],
      "metadata": {
        "colab": {
          "base_uri": "https://localhost:8080/"
        },
        "id": "fPGtZjlD-H3N",
        "outputId": "9f356d38-ae2a-41ad-afd8-192957799737"
      },
      "execution_count": 7,
      "outputs": [
        {
          "output_type": "stream",
          "name": "stdout",
          "text": [
            "{'m': 1, 'e': 1, 't': 1, 'a': 1}\n"
          ]
        }
      ]
    },
    {
      "cell_type": "markdown",
      "source": [
        "Note:\n",
        "Using get() simplifies dictionary updates."
      ],
      "metadata": {
        "id": "yQjEuHn1_FpX"
      }
    },
    {
      "cell_type": "markdown",
      "source": [
        "#Strings\n",
        "🔹Question:\n",
        "Write a function to remove duplicate characters\n",
        "\n",
        "from a string while preserving order."
      ],
      "metadata": {
        "id": "dugWfADD_Hf0"
      }
    },
    {
      "cell_type": "code",
      "source": [
        "def remove_duplicates(s):\n",
        "    seen = set()\n",
        "    result = []\n",
        "    for ch in s:\n",
        "        if ch not in seen:\n",
        "            seen.add(ch)\n",
        "            result.append(ch)\n",
        "    return ''.join(result)\n",
        "\n",
        "print(remove_duplicates(\"meta meta\"))  # Output: \"meta \"\n"
      ],
      "metadata": {
        "colab": {
          "base_uri": "https://localhost:8080/"
        },
        "id": "_HuiyYqn_Ml8",
        "outputId": "2f238377-0d67-4296-f47f-2d4b7a23dc33"
      },
      "execution_count": 8,
      "outputs": [
        {
          "output_type": "stream",
          "name": "stdout",
          "text": [
            "meta \n"
          ]
        }
      ]
    },
    {
      "cell_type": "markdown",
      "source": [
        "Note:\n",
        "Set tracks seen characters. The list keeps the order."
      ],
      "metadata": {
        "id": "yU5KkiRw_PPo"
      }
    },
    {
      "cell_type": "markdown",
      "source": [
        "#Follow and subcribe\n",
        "\n",
        "👉👉 @Code_with_AS 👈👈 for more..."
      ],
      "metadata": {
        "id": "6ut5m8tYyp4q"
      }
    }
  ]
}