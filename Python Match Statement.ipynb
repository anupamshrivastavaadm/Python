{
  "nbformat": 4,
  "nbformat_minor": 0,
  "metadata": {
    "colab": {
      "provenance": []
    },
    "kernelspec": {
      "name": "python3",
      "display_name": "Python 3"
    },
    "language_info": {
      "name": "python"
    }
  },
  "cells": [
    {
      "cell_type": "markdown",
      "source": [
        "#Python Match Statement"
      ],
      "metadata": {
        "id": "Y2xHVnD8JTLa"
      }
    },
    {
      "cell_type": "markdown",
      "source": [
        "Want to clean up those messy if-else chains in Python?\n",
        "\n",
        "Try the powerful match statement, introduced in Python 3.10!"
      ],
      "metadata": {
        "id": "JiB6eVIzHDgJ"
      }
    },
    {
      "cell_type": "code",
      "source": [
        "def http_status(code):\n",
        "    match code:\n",
        "        case 200:\n",
        "            return \"OK\"\n",
        "        case 404:\n",
        "            return \"Not Found\"\n",
        "        case 500:\n",
        "            return \"Server Error\"\n",
        "        case _:\n",
        "            return \"Unknown code\""
      ],
      "metadata": {
        "id": "8n6c0wFc4iCX"
      },
      "execution_count": 1,
      "outputs": []
    },
    {
      "cell_type": "code",
      "execution_count": 2,
      "metadata": {
        "id": "wNIBsnX3KZso",
        "colab": {
          "base_uri": "https://localhost:8080/"
        },
        "outputId": "3d3f6a7c-097b-46aa-cf00-2b20e064fe7e"
      },
      "outputs": [
        {
          "output_type": "stream",
          "name": "stdout",
          "text": [
            "OK\n",
            "Not Found\n",
            "Server Error\n",
            "Unknown code\n"
          ]
        }
      ],
      "source": [
        "print(http_status(200))\n",
        "print(http_status(404))\n",
        "print(http_status(500))\n",
        "print(http_status(100))"
      ]
    },
    {
      "cell_type": "markdown",
      "source": [
        "1) Literal Pattern: Match exact values, like numbers or strings."
      ],
      "metadata": {
        "id": "vBkemPT5HsAy"
      }
    },
    {
      "cell_type": "code",
      "source": [
        "x = 2\n",
        "\n",
        "match x:\n",
        "    case 1:\n",
        "        print(\"One\")\n",
        "    case 2:\n",
        "        print(\"Greeting\")"
      ],
      "metadata": {
        "colab": {
          "base_uri": "https://localhost:8080/"
        },
        "id": "-AsTvY35_k1x",
        "outputId": "f006eb1d-be06-4bc6-a44d-ee259ac90806"
      },
      "execution_count": 12,
      "outputs": [
        {
          "output_type": "stream",
          "name": "stdout",
          "text": [
            "Greeting\n"
          ]
        }
      ]
    },
    {
      "cell_type": "markdown",
      "source": [
        "2) Wildcard _ : Matches anything – like a default or else case."
      ],
      "metadata": {
        "id": "rperkaFIFLYK"
      }
    },
    {
      "cell_type": "code",
      "source": [
        "command = \"abcd\"\n",
        "\n",
        "match command:\n",
        "    case \"start\":\n",
        "        print(\"Starting\")\n",
        "    case _:\n",
        "        print(\"Unknown command\")\n"
      ],
      "metadata": {
        "colab": {
          "base_uri": "https://localhost:8080/"
        },
        "id": "ZqMPyHLnFF4V",
        "outputId": "c802db03-8492-4b50-cd3b-ca37b75d93be"
      },
      "execution_count": 15,
      "outputs": [
        {
          "output_type": "stream",
          "name": "stdout",
          "text": [
            "Unknown command\n"
          ]
        }
      ]
    },
    {
      "cell_type": "markdown",
      "source": [
        "3) Variable Pattern: Captures and binds any value to a variable."
      ],
      "metadata": {
        "id": "9PbLVMzyFSWb"
      }
    },
    {
      "cell_type": "code",
      "source": [
        "value = 42\n",
        "\n",
        "match value:\n",
        "    case v:\n",
        "        print(f\"Captured: {v}\")"
      ],
      "metadata": {
        "colab": {
          "base_uri": "https://localhost:8080/"
        },
        "id": "rTouBno7FF1i",
        "outputId": "a146ca12-66ca-425c-a17c-07a08092ea50"
      },
      "execution_count": 16,
      "outputs": [
        {
          "output_type": "stream",
          "name": "stdout",
          "text": [
            "Captured: 42\n"
          ]
        }
      ]
    },
    {
      "cell_type": "markdown",
      "source": [
        "4) Sequence Pattern: Match lists or tuples by structure and unpack them."
      ],
      "metadata": {
        "id": "X9MsrTMsFYek"
      }
    },
    {
      "cell_type": "code",
      "source": [
        "data = [10, 20]\n",
        "\n",
        "match data:\n",
        "    case [a, b]:\n",
        "        print(a, b)\n"
      ],
      "metadata": {
        "colab": {
          "base_uri": "https://localhost:8080/"
        },
        "id": "BeTbnfVAFFyW",
        "outputId": "14874de8-b2ad-4669-b9d4-b7e9e5a83feb"
      },
      "execution_count": 17,
      "outputs": [
        {
          "output_type": "stream",
          "name": "stdout",
          "text": [
            "10 20\n"
          ]
        }
      ]
    },
    {
      "cell_type": "markdown",
      "source": [
        "5) Mapping Pattern: Match dictionaries by keys and extract values."
      ],
      "metadata": {
        "id": "FjanzwrpFeCP"
      }
    },
    {
      "cell_type": "code",
      "source": [
        "point = {\"x\": 5, \"y\": 7}\n",
        "\n",
        "match point:\n",
        "    case {\"x\": x, \"y\": y}:\n",
        "        print(x, y)\n"
      ],
      "metadata": {
        "colab": {
          "base_uri": "https://localhost:8080/"
        },
        "id": "TOLW-_mqFFih",
        "outputId": "c1b858d7-4394-428a-d017-eceb45d90701"
      },
      "execution_count": 18,
      "outputs": [
        {
          "output_type": "stream",
          "name": "stdout",
          "text": [
            "5 7\n"
          ]
        }
      ]
    },
    {
      "cell_type": "markdown",
      "source": [
        "6) Class Pattern: Match class objects and destructure their attributes."
      ],
      "metadata": {
        "id": "i5iESwO7FjtZ"
      }
    },
    {
      "cell_type": "code",
      "source": [
        "class Point:\n",
        "    __match_args__ = (\"x\", \"y\")  # 👈 Tell match() what attributes go in order\n",
        "\n",
        "    def __init__(self, x, y):\n",
        "        self.x = x\n",
        "        self.y = y\n",
        "\n",
        "p = Point(3, 4)\n",
        "q= Point(5, 6)\n",
        "\n",
        "match p:\n",
        "    case Point(x, y):\n",
        "        print(f\"Point at ({x}, {y})\")\n",
        "\n",
        "match q:\n",
        "    case Point(x, y):\n",
        "        print(f\"Point at ({x}, {y})\")\n"
      ],
      "metadata": {
        "colab": {
          "base_uri": "https://localhost:8080/"
        },
        "id": "YHIIFT-6FpsR",
        "outputId": "b4830518-fdfa-4c79-9695-bb4100df01d0"
      },
      "execution_count": 21,
      "outputs": [
        {
          "output_type": "stream",
          "name": "stdout",
          "text": [
            "Point at (3, 4)\n",
            "Point at (5, 6)\n"
          ]
        }
      ]
    },
    {
      "cell_type": "markdown",
      "source": [
        "7) OR Pattern | : Match multiple values in one case."
      ],
      "metadata": {
        "id": "wqsMjhonFqxV"
      }
    },
    {
      "cell_type": "code",
      "source": [
        "response = \"y\"\n",
        "\n",
        "match response:\n",
        "    case \"yes\" | \"y\":\n",
        "        print(\"Confirmed\")\n"
      ],
      "metadata": {
        "colab": {
          "base_uri": "https://localhost:8080/"
        },
        "id": "F4ptFqn1FppM",
        "outputId": "0d762abf-bc7a-40da-f16c-063ae1de542f"
      },
      "execution_count": 22,
      "outputs": [
        {
          "output_type": "stream",
          "name": "stdout",
          "text": [
            "Confirmed\n"
          ]
        }
      ]
    },
    {
      "cell_type": "markdown",
      "source": [
        "8) Guard Pattern: Add a condition with if to refine the match."
      ],
      "metadata": {
        "id": "eXOg8YDQFx-i"
      }
    },
    {
      "cell_type": "code",
      "source": [
        "num = 10\n",
        "\n",
        "match num:\n",
        "    case x if x > 0:\n",
        "        print(\"Positive number\")\n"
      ],
      "metadata": {
        "colab": {
          "base_uri": "https://localhost:8080/"
        },
        "id": "z_wEc0mPFpmB",
        "outputId": "c05d2222-9376-4127-db6d-6d4b5544cf8f"
      },
      "execution_count": 23,
      "outputs": [
        {
          "output_type": "stream",
          "name": "stdout",
          "text": [
            "Positive number\n"
          ]
        }
      ]
    },
    {
      "cell_type": "markdown",
      "source": [
        "#Final Tip:\n",
        "\n",
        "Remember, first match wins.\n",
        "\n",
        "And you need Python 3.10+ to use match!"
      ],
      "metadata": {
        "id": "5wSA5XL-HFR_"
      }
    },
    {
      "cell_type": "markdown",
      "source": [
        "#Follow @Code_with_AS for more..."
      ],
      "metadata": {
        "id": "6ut5m8tYyp4q"
      }
    }
  ]
}