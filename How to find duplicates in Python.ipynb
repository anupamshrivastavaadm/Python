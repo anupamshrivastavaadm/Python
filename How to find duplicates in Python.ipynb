{
  "nbformat": 4,
  "nbformat_minor": 0,
  "metadata": {
    "colab": {
      "provenance": []
    },
    "kernelspec": {
      "name": "python3",
      "display_name": "Python 3"
    },
    "language_info": {
      "name": "python"
    }
  },
  "cells": [
    {
      "cell_type": "markdown",
      "source": [
        "#How to Find Duplicate Values using\n",
        "\n",
        "#Python"
      ],
      "metadata": {
        "id": "Y2xHVnD8JTLa"
      }
    },
    {
      "cell_type": "markdown",
      "source": [
        "To find duplicate values in a list using Python, you can use\n",
        "\n",
        "a variety of methods depending on your needs.\n",
        "\n",
        "Below are three common approaches:"
      ],
      "metadata": {
        "id": "3EmLVe5VMPS-"
      }
    },
    {
      "cell_type": "markdown",
      "source": [
        "##Using Function"
      ],
      "metadata": {
        "id": "LOcQSCHgMSbz"
      }
    },
    {
      "cell_type": "code",
      "source": [
        "def duplicates(x):\n",
        "    length = len(x)\n",
        "    d_duplicates = []\n",
        "    for i in range(length):\n",
        "        n = i + 1\n",
        "        for a in range(n, length):\n",
        "            if x[i] == x[a] and x[i] not in d_duplicates:\n",
        "                d_duplicates.append(x[i])\n",
        "    return d_duplicates\n",
        "names = [\"1\", \"2\", \"3\", \"4\",\n",
        "         \"1\", \"5\", \"2\"]\n",
        "print(duplicates(names))"
      ],
      "metadata": {
        "id": "GVOxZNs_M1WT",
        "colab": {
          "base_uri": "https://localhost:8080/"
        },
        "outputId": "50dfba19-583f-4ff6-c77d-6b0641fcd2d7"
      },
      "execution_count": 7,
      "outputs": [
        {
          "output_type": "stream",
          "name": "stdout",
          "text": [
            "['1', '2']\n"
          ]
        }
      ]
    },
    {
      "cell_type": "markdown",
      "source": [
        "##Using Set"
      ],
      "metadata": {
        "id": "1jpkm_ow-Eos"
      }
    },
    {
      "cell_type": "code",
      "source": [
        "data = [1, 2, 3, 2, 4, 5, 1, 6, 3]\n",
        "seen = set()\n",
        "duplicates = set()\n",
        "\n",
        "for item in data:\n",
        "    if item in seen:\n",
        "        duplicates.add(item)\n",
        "    else:\n",
        "        seen.add(item)\n",
        "\n",
        "print(\"Duplicates:\", list(duplicates))\n"
      ],
      "metadata": {
        "colab": {
          "base_uri": "https://localhost:8080/"
        },
        "id": "H7OZsAVZ98-P",
        "outputId": "de3d6ca2-4a77-4d4f-c4e0-702e2822b5d8"
      },
      "execution_count": 3,
      "outputs": [
        {
          "output_type": "stream",
          "name": "stdout",
          "text": [
            "Duplicates: [1, 2, 3]\n"
          ]
        }
      ]
    },
    {
      "cell_type": "markdown",
      "source": [
        "##Using list comprehension with count()"
      ],
      "metadata": {
        "id": "hZJ-g3Mr-IuV"
      }
    },
    {
      "cell_type": "code",
      "source": [
        "data = [1, 2, 3, 2, 4, 5, 1, 6, 3]\n",
        "duplicates = list(set([x for x in data if data.count(x) > 1]))\n",
        "print(\"Duplicates:\", duplicates)\n"
      ],
      "metadata": {
        "colab": {
          "base_uri": "https://localhost:8080/"
        },
        "id": "CMsxtZYF8sdf",
        "outputId": "8f043fc4-d259-4e51-db20-fb347e82d9e7"
      },
      "execution_count": 4,
      "outputs": [
        {
          "output_type": "stream",
          "name": "stdout",
          "text": [
            "Duplicates: [1, 2, 3]\n"
          ]
        }
      ]
    },
    {
      "cell_type": "markdown",
      "source": [
        "Choose Based on:\n",
        "\n",
        "Performance? → Use Counter or set-based approach.\n",
        "\n",
        "Simplicity? → List comprehension is okay for small datasets."
      ],
      "metadata": {
        "id": "QAeMzELi-Ov2"
      }
    },
    {
      "cell_type": "markdown",
      "source": [
        "# 👉👉👉 Follow Code_with_AS 👈👈👈\n",
        "\n",
        "#for more..."
      ],
      "metadata": {
        "id": "kNcEB3wGPN1M"
      }
    }
  ]
}