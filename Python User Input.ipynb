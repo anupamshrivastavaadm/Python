{
  "nbformat": 4,
  "nbformat_minor": 0,
  "metadata": {
    "colab": {
      "provenance": []
    },
    "kernelspec": {
      "name": "python3",
      "display_name": "Python 3"
    },
    "language_info": {
      "name": "python"
    }
  },
  "cells": [
    {
      "cell_type": "markdown",
      "source": [
        "#Python User Input"
      ],
      "metadata": {
        "id": "Y2xHVnD8JTLa"
      }
    },
    {
      "cell_type": "markdown",
      "source": [
        "In Python, you can get user input using the input() function. This\n",
        "\n",
        "function pauses the program and waits for the user to enter\n",
        "\n",
        "something, then returns the input as a string."
      ],
      "metadata": {
        "id": "3EmLVe5VMPS-"
      }
    },
    {
      "cell_type": "code",
      "source": [
        "name = input(\"Enter your name: \")\n",
        "print(\"Hello, \" + name + \"!\")"
      ],
      "metadata": {
        "id": "iaej-YODZhS4",
        "colab": {
          "base_uri": "https://localhost:8080/"
        },
        "outputId": "041c6668-7e80-4492-8cde-2c6d38951fdd"
      },
      "execution_count": 6,
      "outputs": [
        {
          "output_type": "stream",
          "name": "stdout",
          "text": [
            "Enter your name: code with AS\n",
            "Hello, code with AS!\n"
          ]
        }
      ]
    },
    {
      "cell_type": "markdown",
      "source": [
        "- Input with Type Conversion:\n",
        "\n",
        "By default, input() returns a string. If you want a number,\n",
        "\n",
        "you must convert the input:"
      ],
      "metadata": {
        "id": "Cx0yppjuPxdN"
      }
    },
    {
      "cell_type": "code",
      "source": [
        "age = int(input(\"Enter your age: \"))\n",
        "print(\"You will be\", age + 1, \"next year.\")"
      ],
      "metadata": {
        "colab": {
          "base_uri": "https://localhost:8080/"
        },
        "id": "4sy_nH-eZhQA",
        "outputId": "98d2d12c-1646-43ea-d569-76ccf5a60f9e"
      },
      "execution_count": 7,
      "outputs": [
        {
          "output_type": "stream",
          "name": "stdout",
          "text": [
            "Enter your age: 25\n",
            "You will be 26 next year.\n"
          ]
        }
      ]
    },
    {
      "cell_type": "markdown",
      "source": [
        "- You can use float() for decimal numbers:"
      ],
      "metadata": {
        "id": "mtkzXk6BDAr9"
      }
    },
    {
      "cell_type": "code",
      "source": [
        "price = float(input(\"Enter the price: \"))\n",
        "print(\"With tax, the price is\", price * 1.2)"
      ],
      "metadata": {
        "colab": {
          "base_uri": "https://localhost:8080/"
        },
        "id": "6Q37uwQBDDoH",
        "outputId": "e180123d-463c-4671-a5a7-0e2cadf48a61"
      },
      "execution_count": 8,
      "outputs": [
        {
          "output_type": "stream",
          "name": "stdout",
          "text": [
            "Enter the price: 56\n",
            "With tax, the price is 67.2\n"
          ]
        }
      ]
    },
    {
      "cell_type": "markdown",
      "source": [
        "- Validating Input:\n",
        "\n",
        "To make your program more robust, use try/except to\n",
        "\n",
        "handle bad input"
      ],
      "metadata": {
        "id": "xXGnQG2RDPge"
      }
    },
    {
      "cell_type": "code",
      "source": [
        "try:\n",
        "    num = int(input(\"Enter a number: \"))\n",
        "    print(\"Double the number is\", num * 2)\n",
        "except ValueError:\n",
        "    print(\"That was not a valid number.\")\n"
      ],
      "metadata": {
        "id": "kvvEWZocDDlP"
      },
      "execution_count": null,
      "outputs": []
    },
    {
      "cell_type": "code",
      "source": [
        "name = input(\"Enter your name: \")\n",
        "print(f\"Hello {name}\")\n",
        "\n",
        "fav1 = input(\"What is your favorite animal? \")\n",
        "fav2 = input(\"What is your favorite color? \")\n",
        "fav3 = input(\"What is your favorite number? \")\n",
        "\n",
        "print(f\"Do you want a {fav2} {fav1} with {fav3} legs?\")\n",
        "\n",
        "# Asking for yes or no\n",
        "answer = input(\"Type 'yes' or 'no' or 'maybe': \")\n",
        "\n",
        "# Using condition\n",
        "if answer.lower() == \"yes\":\n",
        "    print(\"🎉 Congrats!\")\n",
        "elif answer.lower() == \"maybe\":\n",
        "    print(\"Not sure...ahaa..\")\n",
        "else:\n",
        "    print(\"😔 Better luck next time!\")\n"
      ],
      "metadata": {
        "colab": {
          "base_uri": "https://localhost:8080/"
        },
        "id": "eSbNSw6AKXfD",
        "outputId": "5bbeac40-fee7-4ac6-a6fb-ad53184cc2ac"
      },
      "execution_count": 10,
      "outputs": [
        {
          "output_type": "stream",
          "name": "stdout",
          "text": [
            "Enter your name: Code_with_AS\n",
            "Hello Code_with_AS\n",
            "What is your favorite animal? Lion\n",
            "What is your favorite color? Red\n",
            "What is your favorite number? 4\n",
            "Do you want a Red Lion with 4 legs?\n",
            "Type 'yes' or 'no' or 'maybe': Yes\n",
            "🎉 Congrats!\n"
          ]
        }
      ]
    },
    {
      "cell_type": "markdown",
      "source": [
        "#Steps for User Input:\n",
        "\n",
        "- input() is a built-in function.\n",
        "\n",
        "- \"Your message in this inverted commas\" is a prompt — it tells the user what to type.\n",
        "\n",
        "- The function waits for the user to type something and press Enter.\n",
        "\n",
        "- It always returns a string (text), even if the user types numbers.\n",
        "\n",
        "- If you want a number, you must convert the input using int or float"
      ],
      "metadata": {
        "id": "ustvDAQ5ZoQG"
      }
    },
    {
      "cell_type": "markdown",
      "source": [
        "# 👉👉👉 Follow Code_with_AS 👈👈👈\n",
        "\n",
        "#for more..."
      ],
      "metadata": {
        "id": "kNcEB3wGPN1M"
      }
    }
  ]
}