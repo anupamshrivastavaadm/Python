{
  "nbformat": 4,
  "nbformat_minor": 0,
  "metadata": {
    "colab": {
      "provenance": []
    },
    "kernelspec": {
      "name": "python3",
      "display_name": "Python 3"
    },
    "language_info": {
      "name": "python"
    }
  },
  "cells": [
    {
      "cell_type": "markdown",
      "source": [
        "#Python Conditions and If statements"
      ],
      "metadata": {
        "id": "Y2xHVnD8JTLa"
      }
    },
    {
      "cell_type": "markdown",
      "source": [
        "In Python, we use if, elif, and else to make decisions."
      ],
      "metadata": {
        "id": "JiB6eVIzHDgJ"
      }
    },
    {
      "cell_type": "code",
      "execution_count": 7,
      "metadata": {
        "id": "wNIBsnX3KZso",
        "colab": {
          "base_uri": "https://localhost:8080/"
        },
        "outputId": "064c8ee7-995a-4228-a1a3-30841c673122"
      },
      "outputs": [
        {
          "output_type": "stream",
          "name": "stdout",
          "text": [
            "You're an adult!\n"
          ]
        }
      ],
      "source": [
        "age = 20\n",
        "if age >= 18:\n",
        "    print(\"You're an adult!\")\n",
        "elif age > 12:\n",
        "    print(\"You're a teenager!\")\n",
        "else:\n",
        "    print(\"You're a child.\")\n"
      ]
    },
    {
      "cell_type": "markdown",
      "source": [
        "Conditions use comparison operators like:\n",
        "\n",
        "== equals, != not equal, > greater than, < less than, >= greater or equal,\n",
        "\n",
        "<= less or equal"
      ],
      "metadata": {
        "id": "vBkemPT5HsAy"
      }
    },
    {
      "cell_type": "markdown",
      "source": [
        "You can also combine conditions:"
      ],
      "metadata": {
        "id": "K-ICyLV55Aqk"
      }
    },
    {
      "cell_type": "code",
      "source": [
        "if age >= 18 and age <= 60:\n",
        "    print(\"Working age\")"
      ],
      "metadata": {
        "colab": {
          "base_uri": "https://localhost:8080/"
        },
        "id": "-AsTvY35_k1x",
        "outputId": "536551be-e7d2-4536-8982-acf15d516682"
      },
      "execution_count": 5,
      "outputs": [
        {
          "output_type": "stream",
          "name": "stdout",
          "text": [
            "Working age\n"
          ]
        }
      ]
    },
    {
      "cell_type": "markdown",
      "source": [
        "Or use or, not:"
      ],
      "metadata": {
        "id": "S2tHbfaB5GMg"
      }
    },
    {
      "cell_type": "code",
      "source": [
        "if not age < 18:\n",
        "    print(\"Adult\")"
      ],
      "metadata": {
        "id": "JCAUPam3_npH",
        "colab": {
          "base_uri": "https://localhost:8080/"
        },
        "outputId": "88a76bc2-d64c-47d7-bb84-5fb01d156470"
      },
      "execution_count": 6,
      "outputs": [
        {
          "output_type": "stream",
          "name": "stdout",
          "text": [
            "Adult\n"
          ]
        }
      ]
    },
    {
      "cell_type": "markdown",
      "source": [
        "Indentation matters in Python – no curly braces! 👇\n",
        "Keep your blocks aligned!\n",
        "\n",
        "🧪 Try it yourself and build smart programs with logic!\n",
        "\n",
        "Follow for more Python tips! 🐍👨‍💻\n",
        "\n",
        "#Python #CodingShorts\n",
        "#LearnPython #Code_with_AS"
      ],
      "metadata": {
        "id": "4p0SNb0oH2Wx"
      }
    }
  ]
}