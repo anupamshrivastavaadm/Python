{
  "nbformat": 4,
  "nbformat_minor": 0,
  "metadata": {
    "colab": {
      "provenance": []
    },
    "kernelspec": {
      "name": "python3",
      "display_name": "Python 3"
    },
    "language_info": {
      "name": "python"
    }
  },
  "cells": [
    {
      "cell_type": "markdown",
      "source": [
        "#Python’s try-except [Exception Handling]"
      ],
      "metadata": {
        "id": "Y2xHVnD8JTLa"
      }
    },
    {
      "cell_type": "markdown",
      "source": [
        "Why Do We Use try-except in Python?\n",
        "\n",
        "Python’s try-except is used for error handling. It allows your program to:\n",
        "\n",
        "Detect errors (like dividing by zero, accessing a missing file, etc.)\n",
        "\n",
        "Recover from those errors without crashing\n",
        "\n",
        "Handle expected and unexpected issues gracefully\n",
        "\n",
        "Improve user experience by providing friendly messages instead of\n",
        "\n",
        "error dumps"
      ],
      "metadata": {
        "id": "3EmLVe5VMPS-"
      }
    },
    {
      "cell_type": "markdown",
      "source": [
        "#Without try-except:"
      ],
      "metadata": {
        "id": "LOcQSCHgMSbz"
      }
    },
    {
      "cell_type": "code",
      "source": [
        "x = 10 / 0\n",
        "print(\"This will not run.\")\n"
      ],
      "metadata": {
        "colab": {
          "base_uri": "https://localhost:8080/",
          "height": 158
        },
        "id": "iaej-YODZhS4",
        "outputId": "36d66fa3-d38d-4be4-a25e-52ad150712dc"
      },
      "execution_count": 6,
      "outputs": [
        {
          "output_type": "error",
          "ename": "ZeroDivisionError",
          "evalue": "division by zero",
          "traceback": [
            "\u001b[0;31m---------------------------------------------------------------------------\u001b[0m",
            "\u001b[0;31mZeroDivisionError\u001b[0m                         Traceback (most recent call last)",
            "\u001b[0;32m/tmp/ipython-input-6-3268827665.py\u001b[0m in \u001b[0;36m<cell line: 0>\u001b[0;34m()\u001b[0m\n\u001b[0;32m----> 1\u001b[0;31m \u001b[0mx\u001b[0m \u001b[0;34m=\u001b[0m \u001b[0;36m10\u001b[0m \u001b[0;34m/\u001b[0m \u001b[0;36m0\u001b[0m\u001b[0;34m\u001b[0m\u001b[0;34m\u001b[0m\u001b[0m\n\u001b[0m\u001b[1;32m      2\u001b[0m \u001b[0mprint\u001b[0m\u001b[0;34m(\u001b[0m\u001b[0;34m\"This will not run.\"\u001b[0m\u001b[0;34m)\u001b[0m\u001b[0;34m\u001b[0m\u001b[0;34m\u001b[0m\u001b[0m\n",
            "\u001b[0;31mZeroDivisionError\u001b[0m: division by zero"
          ]
        }
      ]
    },
    {
      "cell_type": "markdown",
      "source": [
        "#With try-except:"
      ],
      "metadata": {
        "id": "Cx0yppjuPxdN"
      }
    },
    {
      "cell_type": "code",
      "source": [
        "try:\n",
        "    x = 10 / 0\n",
        "except ZeroDivisionError:\n",
        "    print(\"Oops! Can't divide by zero.\")\n",
        "\n",
        "print(\"Program continues...\")\n"
      ],
      "metadata": {
        "colab": {
          "base_uri": "https://localhost:8080/"
        },
        "id": "4sy_nH-eZhQA",
        "outputId": "eced8cf4-fd3f-4236-fddd-f0d29c6c9eb1"
      },
      "execution_count": 4,
      "outputs": [
        {
          "output_type": "stream",
          "name": "stdout",
          "text": [
            "Oops! Can't divide by zero.\n",
            "Program continues...\n"
          ]
        }
      ]
    },
    {
      "cell_type": "markdown",
      "source": [
        "Topics We’ll Cover:\n",
        "\n",
        "- Basic try-except\n",
        "\n",
        "- Multiple except blocks\n",
        "\n",
        "- Catching multiple exceptions in one line\n",
        "\n",
        "- The else block\n",
        "\n",
        "- The finally block\n",
        "\n",
        "- Accessing the exception object\n",
        "\n",
        "- Using raise to re-raise or raise new exceptions\n",
        "\n",
        "- Custom exception classes\n",
        "\n",
        "- Nesting try-except blocks\n",
        "\n"
      ],
      "metadata": {
        "id": "ustvDAQ5ZoQG"
      }
    },
    {
      "cell_type": "markdown",
      "source": [
        "#Handling a Simple Bank Transaction System"
      ],
      "metadata": {
        "id": "iwj_8oiDNLHQ"
      }
    },
    {
      "cell_type": "code",
      "source": [
        "class InsufficientFundsError(Exception):\n",
        "    \"\"\"Custom exception for insufficient funds.\"\"\"\n",
        "    pass\n",
        "\n",
        "def process_transaction(balance, amount):\n",
        "    try:\n",
        "        # Step 1: Basic try block\n",
        "        print(\"Starting transaction...\")\n",
        "\n",
        "        if not isinstance(amount, (int, float)):\n",
        "            raise TypeError(\"Amount must be a number.\")  # raise a built-in error\n",
        "\n",
        "        if amount < 0:\n",
        "            raise ValueError(\"Amount must be positive.\")  # raise a built-in error\n",
        "\n",
        "        if amount > balance:\n",
        "            raise InsufficientFundsError(\"Not enough funds for this transaction.\")  # raise custom error\n",
        "\n",
        "        result = balance - amount  # Transaction logic\n",
        "\n",
        "    except TypeError as te:\n",
        "        # Catching a specific exception and using the exception object\n",
        "        print(f\"Type Error: {te}\")\n",
        "\n",
        "    except ValueError as ve:\n",
        "        print(f\"Value Error: {ve}\")\n",
        "\n",
        "    except (InsufficientFundsError, ZeroDivisionError) as e:\n",
        "        # Catching multiple exceptions in one block\n",
        "        print(f\"Custom or runtime error: {e}\")\n",
        "\n",
        "    else:\n",
        "        # Runs only if no exception occurred\n",
        "        print(f\"Transaction successful! New balance: {result}\")\n",
        "\n",
        "    finally:\n",
        "        # Runs no matter what\n",
        "        print(\"Transaction ended.\\n\")\n",
        "\n",
        "# ===============================\n",
        "# 💡 NESTED try-except Example\n",
        "def main():\n",
        "    try:\n",
        "        user_balance = 1000\n",
        "        withdraw_amounts = [500, 'abc', -100, 2000]\n",
        "\n",
        "        for amount in withdraw_amounts:\n",
        "            try:\n",
        "                process_transaction(user_balance, amount)\n",
        "            except Exception as e:\n",
        "                # Catch any unexpected error during processing\n",
        "                print(f\"Unexpected error in processing: {e}\")\n",
        "\n",
        "    except KeyboardInterrupt:\n",
        "        print(\"Program interrupted by user.\")\n",
        "\n",
        "    finally:\n",
        "        print(\"Program finished.\")\n",
        "\n",
        "main()\n"
      ],
      "metadata": {
        "id": "GVOxZNs_M1WT",
        "colab": {
          "base_uri": "https://localhost:8080/"
        },
        "outputId": "ae2bd46c-a18a-4f9c-d294-31341345adf7"
      },
      "execution_count": 5,
      "outputs": [
        {
          "output_type": "stream",
          "name": "stdout",
          "text": [
            "Starting transaction...\n",
            "Transaction successful! New balance: 500\n",
            "Transaction ended.\n",
            "\n",
            "Starting transaction...\n",
            "Type Error: Amount must be a number.\n",
            "Transaction ended.\n",
            "\n",
            "Starting transaction...\n",
            "Value Error: Amount must be positive.\n",
            "Transaction ended.\n",
            "\n",
            "Starting transaction...\n",
            "Custom or runtime error: Not enough funds for this transaction.\n",
            "Transaction ended.\n",
            "\n",
            "Program finished.\n"
          ]
        }
      ]
    },
    {
      "cell_type": "markdown",
      "source": [
        "#Benefits of Using try-except:\n",
        "\n",
        "- Prevent app crashes\n",
        "\n",
        "- Handle edge cases and input errors\n",
        "\n",
        "- Log issues for debugging\n",
        "\n",
        "- Build more user-friendly apps\n",
        "\n",
        "- Keep code robust and safe\n",
        "\n",
        "\n"
      ],
      "metadata": {
        "id": "QAeMzELi-Ov2"
      }
    },
    {
      "cell_type": "markdown",
      "source": [
        "# 👉👉👉 Follow Code_with_AS 👈👈👈\n",
        "\n",
        "#for more..."
      ],
      "metadata": {
        "id": "kNcEB3wGPN1M"
      }
    }
  ]
}