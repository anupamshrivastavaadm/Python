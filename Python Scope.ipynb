{
  "nbformat": 4,
  "nbformat_minor": 0,
  "metadata": {
    "colab": {
      "provenance": []
    },
    "kernelspec": {
      "name": "python3",
      "display_name": "Python 3"
    },
    "language_info": {
      "name": "python"
    }
  },
  "cells": [
    {
      "cell_type": "markdown",
      "source": [
        "#Python Scope"
      ],
      "metadata": {
        "id": "Y2xHVnD8JTLa"
      }
    },
    {
      "cell_type": "markdown",
      "source": [
        "In Python, scope refers to the region of the code where a variable is\n",
        "\n",
        "recognized and accessible. It defines the visibility and lifetime of\n",
        "\n",
        "variables.\n",
        "\n",
        "There are four main types of scope in Python, following the LEGB Rule:"
      ],
      "metadata": {
        "id": "3EmLVe5VMPS-"
      }
    },
    {
      "cell_type": "markdown",
      "source": [
        "- Local (L) Scope: Variables defined inside a function.\n",
        "\n",
        "    Only accessible within that function."
      ],
      "metadata": {
        "id": "LOcQSCHgMSbz"
      }
    },
    {
      "cell_type": "code",
      "source": [
        "def my_func():\n",
        "    x = 10  # Local scope\n",
        "    print(x)"
      ],
      "metadata": {
        "id": "GVOxZNs_M1WT"
      },
      "execution_count": 35,
      "outputs": []
    },
    {
      "cell_type": "markdown",
      "source": [
        "- Enclosing (E) Scope: Applies to nested functions.\n",
        "\n",
        "    The inner function can access variables from its enclosing\n",
        "    \n",
        "    (outer) function."
      ],
      "metadata": {
        "id": "L3-H6hA4Mz46"
      }
    },
    {
      "cell_type": "code",
      "source": [
        "def outer():\n",
        "    y = 20\n",
        "    def inner():\n",
        "        print(y)  # y is in the enclosing scope\n",
        "    inner()"
      ],
      "metadata": {
        "id": "G2DQVH3iMjOj"
      },
      "execution_count": 39,
      "outputs": []
    },
    {
      "cell_type": "markdown",
      "source": [
        "- Global (G) Scope: Variables defined at the top level of a script\n",
        "\n",
        " or module.\n",
        "\n",
        "    Accessible anywhere in the file after they're defined."
      ],
      "metadata": {
        "id": "fvWU0IALNA8z"
      }
    },
    {
      "cell_type": "code",
      "source": [
        "z = 30  # Global scope\n",
        "\n",
        "def show():\n",
        "    print(z)"
      ],
      "metadata": {
        "id": "qdhMsw-rIogM"
      },
      "execution_count": 40,
      "outputs": []
    },
    {
      "cell_type": "markdown",
      "source": [
        "- Built-in (B) Scope: Names that are built into Python, like\n",
        "\n",
        "    len(), str(), print(), etc.\n",
        "\n",
        "    Always available unless shadowed by local variables."
      ],
      "metadata": {
        "id": "25hV12wxNGGM"
      }
    },
    {
      "cell_type": "code",
      "source": [
        "print(len(\"hello\"))  # Built-in functions"
      ],
      "metadata": {
        "colab": {
          "base_uri": "https://localhost:8080/"
        },
        "id": "LgINFyjTH5Jn",
        "outputId": "55cd72f9-f4fb-4d98-9e5a-006b450005de"
      },
      "execution_count": 41,
      "outputs": [
        {
          "output_type": "stream",
          "name": "stdout",
          "text": [
            "5\n"
          ]
        }
      ]
    },
    {
      "cell_type": "markdown",
      "source": [
        "#Scope Rules in Practice\n",
        "If you try to modify a global variable inside a function without\n",
        "\n",
        "declaring it global, Python will treat it as a local variable:"
      ],
      "metadata": {
        "id": "aHDnmS_KNVGV"
      }
    },
    {
      "cell_type": "code",
      "source": [
        "count = 0\n",
        "\n",
        "def update():\n",
        "    count = count + 1  # Error! UnboundLocalError\n",
        "    print(count)\n"
      ],
      "metadata": {
        "id": "8nBLLDwCH64n"
      },
      "execution_count": 42,
      "outputs": []
    },
    {
      "cell_type": "markdown",
      "source": [
        "Fix using global:"
      ],
      "metadata": {
        "id": "uP0k6fJtNef7"
      }
    },
    {
      "cell_type": "code",
      "source": [
        "count = 0\n",
        "\n",
        "def update():\n",
        "    global count\n",
        "    count += 1\n",
        "    print(count)\n",
        "\n"
      ],
      "metadata": {
        "id": "wxy4dKk7IRz5"
      },
      "execution_count": 43,
      "outputs": []
    },
    {
      "cell_type": "markdown",
      "source": [
        "- Scope controls access to variables.\n",
        "\n",
        "- LEGB: Local → Enclosing → Global → Built-in.\n",
        "\n",
        "- Python looks for a variable name in this order when\n",
        "\n",
        "    trying to resolve it."
      ],
      "metadata": {
        "id": "Xl1ISIttNk8s"
      }
    },
    {
      "cell_type": "markdown",
      "source": [
        "# 👉👉👉 Follow Code_with_AS 👈👈👈\n",
        "\n",
        "#for more..."
      ],
      "metadata": {
        "id": "kNcEB3wGPN1M"
      }
    }
  ]
}