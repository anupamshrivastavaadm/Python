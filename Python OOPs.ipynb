{
  "nbformat": 4,
  "nbformat_minor": 0,
  "metadata": {
    "colab": {
      "provenance": []
    },
    "kernelspec": {
      "name": "python3",
      "display_name": "Python 3"
    },
    "language_info": {
      "name": "python"
    }
  },
  "cells": [
    {
      "cell_type": "markdown",
      "source": [
        "# 🙌 OOPs 😑in Python 🐍"
      ],
      "metadata": {
        "id": "Y2xHVnD8JTLa"
      }
    },
    {
      "cell_type": "markdown",
      "source": [
        "Concepts we will include:\n",
        "\n",
        "- Class & Object\n",
        "- Encapsulation\n",
        "- Inheritance\n",
        "- Polymorphism\n",
        "- Abstraction\n",
        "- self, __init__, super()\n",
        "- Iterators\n",
        "- Magic/Dunder methods"
      ],
      "metadata": {
        "id": "JiB6eVIzHDgJ"
      }
    },
    {
      "cell_type": "markdown",
      "source": [
        "#Library Management System\n",
        "\n",
        "We will create:\n",
        "\n",
        "- A base Item class (abstract)\n",
        "- A Book class (inherits from Item)\n",
        "- A Library class that manages a list of books using iterators\n",
        "- Use encapsulation for sensitive data like book ID\n",
        "- Use polymorphism to describe different item types"
      ],
      "metadata": {
        "id": "HNY49YJTNHcz"
      }
    },
    {
      "cell_type": "code",
      "source": [
        "from abc import ABC, abstractmethod  # For abstraction\n",
        "\n",
        "# 🔹 1. Abstract Class (Abstraction)\n",
        "class Item(ABC):\n",
        "    @abstractmethod\n",
        "    def display_info(self):\n",
        "        pass\n",
        "\n",
        "# 🔹 2. Book Class (Inheritance, Encapsulation, Polymorphism)\n",
        "class Book(Item):\n",
        "    def __init__(self, title, author, book_id):\n",
        "        self.title = title\n",
        "        self.author = author\n",
        "        self.__book_id = book_id  # private -> Encapsulation\n",
        "\n",
        "    # Encapsulated method to access private data\n",
        "    def get_book_id(self):\n",
        "        return self.__book_id\n",
        "\n",
        "    # Polymorphism: Same method name, different implementation\n",
        "    def display_info(self):\n",
        "        print(f\"Book: {self.title} by {self.author} (ID: {self.__book_id})\")\n",
        "\n",
        "    # Magic Method\n",
        "    def __str__(self):\n",
        "        return f\"{self.title} by {self.author}\"\n",
        "\n",
        "# 🔹 3. Library Class (Iterator + OOP wrapper)\n",
        "class Library:\n",
        "    def __init__(self):\n",
        "        self.books = []\n",
        "\n",
        "    # Add a book (Object use)\n",
        "    def add_book(self, book):\n",
        "        self.books.append(book)\n",
        "\n",
        "    # Iterator support\n",
        "    def __iter__(self):\n",
        "        self._index = 0\n",
        "        return self\n",
        "\n",
        "    def __next__(self):\n",
        "        if self._index < len(self.books):\n",
        "            result = self.books[self._index]\n",
        "            self._index += 1\n",
        "            return result\n",
        "        else:\n",
        "            raise StopIteration\n",
        "\n",
        "# 🔹 4. Using the Program (Objects in action)\n",
        "book1 = Book(\"1984\", \"George Orwell\", 101)\n",
        "book2 = Book(\"The Alchemist\", \"Paulo Coelho\", 102)\n",
        "\n",
        "library = Library()\n",
        "library.add_book(book1)\n",
        "library.add_book(book2)\n",
        "\n",
        "# 🔹 5. Loop through library using iterator\n",
        "print(\"Library Books:\\n\")\n",
        "for book in library:\n",
        "    book.display_info()  # Calls the polymorphic method\n",
        "    print(f\"ID (private): {book.get_book_id()}\")\n",
        "    print(\"----\")\n"
      ],
      "metadata": {
        "colab": {
          "base_uri": "https://localhost:8080/"
        },
        "id": "GVOxZNs_M1WT",
        "outputId": "01e13121-79e4-43fa-d862-459b2a44529a"
      },
      "execution_count": 3,
      "outputs": [
        {
          "output_type": "stream",
          "name": "stdout",
          "text": [
            "Library Books:\n",
            "\n",
            "Book: 1984 by George Orwell (ID: 101)\n",
            "ID (private): 101\n",
            "----\n",
            "Book: The Alchemist by Paulo Coelho (ID: 102)\n",
            "ID (private): 102\n",
            "----\n"
          ]
        }
      ]
    },
    {
      "cell_type": "markdown",
      "source": [
        "#Step-by-Step Explanation\n",
        "\n",
        "- class Item(ABC):\tAbstract class. Can't create objects from it directly.\n",
        "- @abstractmethod:\tForces child classes to implement display_info().\n",
        "- class Book(Item):\tBook inherits from Item (Inheritance).\n",
        "- self.__book_id:\tPrivate variable (Encapsulation).\n",
        "- get_book_id():\tPublic method to safely access private data.\n",
        "- display_info():\tPolymorphic method—overrides the abstract method.\n",
        "- __str__():\tMagic method that defines how object is printed.\n",
        "- Library class:\tManages books using a list.\n",
        "- __iter__, __next__:\tMakes Library an iterator. You can use for book in library.\n",
        "- book.display_info():\tShows polymorphism in action.\n",
        "- book.get_book_id():\tSecurely accesses private data."
      ],
      "metadata": {
        "id": "iD0ox3CzS0OS"
      }
    },
    {
      "cell_type": "markdown",
      "source": [
        "Would you like me to create videos that include:\n",
        "\n",
        "User input?\n",
        "\n",
        "File storage?\n",
        "\n",
        "A GUI using Tkinter?\n",
        "\n",
        "##----👇👇👇 Please comment 👇👇👇----"
      ],
      "metadata": {
        "id": "xnAUUVeTTQrD"
      }
    },
    {
      "cell_type": "markdown",
      "source": [
        "#Follow and subcribe 👉👉 @Code_with_AS 👈👈 for more..."
      ],
      "metadata": {
        "id": "6ut5m8tYyp4q"
      }
    },
    {
      "cell_type": "code",
      "source": [],
      "metadata": {
        "id": "6ONKtHtdYNqM"
      },
      "execution_count": null,
      "outputs": []
    }
  ]
}