{
  "nbformat": 4,
  "nbformat_minor": 0,
  "metadata": {
    "colab": {
      "provenance": []
    },
    "kernelspec": {
      "name": "python3",
      "display_name": "Python 3"
    },
    "language_info": {
      "name": "python"
    }
  },
  "cells": [
    {
      "cell_type": "markdown",
      "source": [
        "#Why NumPy is Faster Than Lists"
      ],
      "metadata": {
        "id": "Y2xHVnD8JTLa"
      }
    },
    {
      "cell_type": "markdown",
      "source": [
        "NumPy is faster than Python lists for numerical\n",
        "\n",
        "computations primarily due to the following reasons:"
      ],
      "metadata": {
        "id": "3EmLVe5VMPS-"
      }
    },
    {
      "cell_type": "markdown",
      "source": [
        "###Contiguous Memory Allocation\n",
        "\n",
        "  NumPy arrays are stored in one block of memory; lists\n",
        "  \n",
        "  are scattered.\n",
        "\n",
        "  NumPy uses less memory because of compact and\n",
        "  \n",
        "  contiguous storage."
      ],
      "metadata": {
        "id": "2UzQSBBuleIc"
      }
    },
    {
      "cell_type": "code",
      "source": [
        "import numpy as np\n",
        "import sys\n",
        "\n",
        "a_list = [1, 2, 3, 4, 5]\n",
        "a_numpy = np.array([1, 2, 3, 4, 5])\n",
        "\n",
        "print(\"List size in bytes:\", sys.getsizeof(a_list))\n",
        "print(\"NumPy array size in bytes:\", a_numpy.nbytes)\n"
      ],
      "metadata": {
        "id": "iaej-YODZhS4",
        "colab": {
          "base_uri": "https://localhost:8080/"
        },
        "outputId": "aaf3f8e2-88b7-425a-fd8d-2e623a3bb4e9"
      },
      "execution_count": null,
      "outputs": [
        {
          "output_type": "stream",
          "name": "stdout",
          "text": [
            "List size in bytes: 104\n",
            "NumPy array size in bytes: 40\n"
          ]
        }
      ]
    },
    {
      "cell_type": "markdown",
      "source": [
        "###Homogeneous Data Types\n",
        "\n",
        "  NumPy stores one data type, allowing efficient\n",
        "  \n",
        "  processing.\n",
        "\n",
        "  NumPy uses one type (int32), while lists mix int, str,\n",
        "  \n",
        "  and float."
      ],
      "metadata": {
        "id": "h9izjHBG51L2"
      }
    },
    {
      "cell_type": "code",
      "source": [
        "a_numpy = np.array([1, 2, 3], dtype=np.int32)\n",
        "print(\"NumPy dtype:\", a_numpy.dtype)\n",
        "\n",
        "a_list = [1, 'two', 3.0]\n",
        "for item in a_list:\n",
        "    print(\"List item type:\", type(item))\n"
      ],
      "metadata": {
        "colab": {
          "base_uri": "https://localhost:8080/"
        },
        "id": "_j2MdebI5_UC",
        "outputId": "8ae9cb38-4cae-412d-df9a-1f49277e116e"
      },
      "execution_count": null,
      "outputs": [
        {
          "output_type": "stream",
          "name": "stdout",
          "text": [
            "NumPy dtype: int32\n",
            "List item type: <class 'int'>\n",
            "List item type: <class 'str'>\n",
            "List item type: <class 'float'>\n"
          ]
        }
      ]
    },
    {
      "cell_type": "markdown",
      "source": [
        "###Vectorization vs. Looping\n",
        "\n",
        "  NumPy avoids Python-level loops.\n",
        "\n",
        "  NumPy is significantly faster because the multiplication\n",
        "  \n",
        "  is vectorized."
      ],
      "metadata": {
        "id": "zVJiL2Db6IQ4"
      }
    },
    {
      "cell_type": "code",
      "source": [
        "import time\n",
        "\n",
        "# Python List\n",
        "a = list(range(1_000_000))\n",
        "start = time.time()\n",
        "b = [x * 2 for x in a]\n",
        "print(\"List time:\", time.time() - start)\n",
        "\n",
        "# NumPy Array\n",
        "a_np = np.array(a)\n",
        "start = time.time()\n",
        "b_np = a_np * 2\n",
        "print(\"NumPy time:\", time.time() - start)\n"
      ],
      "metadata": {
        "colab": {
          "base_uri": "https://localhost:8080/"
        },
        "id": "SoU4eJWV6N3a",
        "outputId": "bd69379c-45f1-4070-d0ef-a470b09e5ebf"
      },
      "execution_count": null,
      "outputs": [
        {
          "output_type": "stream",
          "name": "stdout",
          "text": [
            "List time: 0.06673026084899902\n",
            "NumPy time: 0.008033275604248047\n"
          ]
        }
      ]
    },
    {
      "cell_type": "markdown",
      "source": [
        "###Low-level Optimizations\n",
        "  \n",
        "  NumPy uses C under the hood.\n",
        "  \n",
        "  You don’t see this directly in code, but it's visible in\n",
        "  \n",
        "  performance.\n",
        "\n",
        "  np.sum() is faster because it uses C-level optimized code."
      ],
      "metadata": {
        "id": "IRzlsWR26TsC"
      }
    },
    {
      "cell_type": "code",
      "source": [
        "# Sum of a million numbers\n",
        "import time\n",
        "\n",
        "a = list(range(1_000_000))\n",
        "start = time.time()\n",
        "sum_list = sum(a)\n",
        "print(\"List sum time:\", time.time() - start)\n",
        "\n",
        "a_np = np.array(a)\n",
        "start = time.time()\n",
        "sum_np = np.sum(a_np)\n",
        "print(\"NumPy sum time:\", time.time() - start)\n"
      ],
      "metadata": {
        "colab": {
          "base_uri": "https://localhost:8080/"
        },
        "id": "LzSmvJm_6Yy5",
        "outputId": "0e7546e8-0e65-4e59-e558-68fb6f132485"
      },
      "execution_count": null,
      "outputs": [
        {
          "output_type": "stream",
          "name": "stdout",
          "text": [
            "List sum time: 0.01826167106628418\n",
            "NumPy sum time: 0.0018763542175292969\n"
          ]
        }
      ]
    },
    {
      "cell_type": "markdown",
      "source": [
        "###Broadcasting\n",
        "  \n",
        "  NumPy can operate on arrays of different shapes without\n",
        "  \n",
        "  copying data.\n",
        "\n",
        "  NumPy handles scalar-array operations automatically;\n",
        "  \n",
        "  Python lists don’t."
      ],
      "metadata": {
        "id": "ayvzlKDz6hJY"
      }
    },
    {
      "cell_type": "code",
      "source": [
        "a = np.array([1, 2, 3])\n",
        "b = 10\n",
        "print(\"Broadcast result:\", a + b)  # Adds 10 to each element"
      ],
      "metadata": {
        "colab": {
          "base_uri": "https://localhost:8080/"
        },
        "id": "8uLYqquD6oC1",
        "outputId": "9038962d-fb54-4b46-8adb-d4b4d777b69b"
      },
      "execution_count": null,
      "outputs": [
        {
          "output_type": "stream",
          "name": "stdout",
          "text": [
            "Broadcast result: [11 12 13]\n"
          ]
        }
      ]
    },
    {
      "cell_type": "code",
      "source": [
        "a = [1, 2, 3]\n",
        "print(a + 10)  # This will raise a TypeError"
      ],
      "metadata": {
        "colab": {
          "base_uri": "https://localhost:8080/",
          "height": 159
        },
        "id": "d0hNZku06r57",
        "outputId": "f6e86a44-effd-4c32-fa58-031c5f71f5ff"
      },
      "execution_count": null,
      "outputs": [
        {
          "output_type": "error",
          "ename": "TypeError",
          "evalue": "can only concatenate list (not \"int\") to list",
          "traceback": [
            "\u001b[0;31m---------------------------------------------------------------------------\u001b[0m",
            "\u001b[0;31mTypeError\u001b[0m                                 Traceback (most recent call last)",
            "\u001b[0;32m/tmp/ipython-input-2438170911.py\u001b[0m in \u001b[0;36m<cell line: 0>\u001b[0;34m()\u001b[0m\n\u001b[1;32m      1\u001b[0m \u001b[0ma\u001b[0m \u001b[0;34m=\u001b[0m \u001b[0;34m[\u001b[0m\u001b[0;36m1\u001b[0m\u001b[0;34m,\u001b[0m \u001b[0;36m2\u001b[0m\u001b[0;34m,\u001b[0m \u001b[0;36m3\u001b[0m\u001b[0;34m]\u001b[0m\u001b[0;34m\u001b[0m\u001b[0;34m\u001b[0m\u001b[0m\n\u001b[0;32m----> 2\u001b[0;31m \u001b[0mprint\u001b[0m\u001b[0;34m(\u001b[0m\u001b[0ma\u001b[0m \u001b[0;34m+\u001b[0m \u001b[0;36m10\u001b[0m\u001b[0;34m)\u001b[0m  \u001b[0;31m# This will raise a TypeError\u001b[0m\u001b[0;34m\u001b[0m\u001b[0;34m\u001b[0m\u001b[0m\n\u001b[0m",
            "\u001b[0;31mTypeError\u001b[0m: can only concatenate list (not \"int\") to list"
          ]
        }
      ]
    },
    {
      "cell_type": "markdown",
      "source": [
        "| Feature       | NumPy Array         | Python List          |\n",
        "| ------------- | ------------------- | -------------------- |\n",
        "| Memory Layout | Contiguous          | Non-contiguous       |\n",
        "| Data Type     | Homogeneous         | Heterogeneous        |\n",
        "| Speed         | Very fast (C-based) | Slower (interpreted) |\n",
        "| Operations    | Vectorized          | Requires loops       |\n",
        "| Optimizations | SIMD, BLAS/LAPACK   | None                 |\n"
      ],
      "metadata": {
        "id": "pInU1nCMlrmk"
      }
    },
    {
      "cell_type": "markdown",
      "source": [
        "# 👉👉👉 Follow Code_with_AS 👈👈👈\n",
        "\n",
        "#for more..."
      ],
      "metadata": {
        "id": "kNcEB3wGPN1M"
      }
    }
  ]
}