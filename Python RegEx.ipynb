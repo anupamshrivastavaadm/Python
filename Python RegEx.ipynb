{
  "nbformat": 4,
  "nbformat_minor": 0,
  "metadata": {
    "colab": {
      "provenance": []
    },
    "kernelspec": {
      "name": "python3",
      "display_name": "Python 3"
    },
    "language_info": {
      "name": "python"
    }
  },
  "cells": [
    {
      "cell_type": "markdown",
      "source": [
        "#Python RegEx"
      ],
      "metadata": {
        "id": "Y2xHVnD8JTLa"
      }
    },
    {
      "cell_type": "markdown",
      "source": [
        "Python RegEx (Regular Expressions) is a powerful tool for\n",
        "\n",
        "matching patterns in strings. Python provides it via the built-in\n",
        "\n",
        "re module."
      ],
      "metadata": {
        "id": "3EmLVe5VMPS-"
      }
    },
    {
      "cell_type": "markdown",
      "source": [
        "##Basic Usage"
      ],
      "metadata": {
        "id": "LOcQSCHgMSbz"
      }
    },
    {
      "cell_type": "code",
      "source": [
        "import re\n",
        "\n",
        "# Pattern match\n",
        "pattern = r\"\\d+\"  # One or more digits\n",
        "text = \"There are 1234 apples and 78\"\n",
        "\n",
        "match = re.search(pattern, text)\n",
        "if match:\n",
        "    print(\"Found:\", match.group())\n"
      ],
      "metadata": {
        "id": "GVOxZNs_M1WT",
        "colab": {
          "base_uri": "https://localhost:8080/"
        },
        "outputId": "7c44b9b4-7c7b-4e36-d898-37684dc64325"
      },
      "execution_count": 37,
      "outputs": [
        {
          "output_type": "stream",
          "name": "stdout",
          "text": [
            "Found: 1234\n"
          ]
        }
      ]
    },
    {
      "cell_type": "markdown",
      "source": [
        "##Using findall() function"
      ],
      "metadata": {
        "id": "1jpkm_ow-Eos"
      }
    },
    {
      "cell_type": "code",
      "source": [
        "numbers = re.findall(r\"\\d+\", text)\n",
        "print(\"Found:\", numbers)"
      ],
      "metadata": {
        "colab": {
          "base_uri": "https://localhost:8080/"
        },
        "id": "H7OZsAVZ98-P",
        "outputId": "5fb93ef3-3e87-4be4-fb5d-cd082d7d68f9"
      },
      "execution_count": 34,
      "outputs": [
        {
          "output_type": "stream",
          "name": "stdout",
          "text": [
            "Found: ['1234', '78']\n"
          ]
        }
      ]
    },
    {
      "cell_type": "markdown",
      "source": [
        "##Extract Email"
      ],
      "metadata": {
        "id": "hZJ-g3Mr-IuV"
      }
    },
    {
      "cell_type": "code",
      "source": [
        "text = \"Email me at hello@example.com\"\n",
        "email_pattern = r\"[a-zA-Z0-9_.+-]+@[a-zA-Z0-9-]+\\.[a-zA-Z0-9-.]+\"\n",
        "\n",
        "email = re.search(email_pattern, text)\n",
        "if email:\n",
        "    print(email.group())\n"
      ],
      "metadata": {
        "colab": {
          "base_uri": "https://localhost:8080/"
        },
        "id": "CMsxtZYF8sdf",
        "outputId": "23c784a4-fcfd-4455-af54-5af5978a6bcd"
      },
      "execution_count": 36,
      "outputs": [
        {
          "output_type": "stream",
          "name": "stdout",
          "text": [
            "hello@example.com\n"
          ]
        }
      ]
    },
    {
      "cell_type": "markdown",
      "source": [
        "🔹 Common Functions\n",
        "\n",
        "- re.search():\tFinds the first match\n",
        "- re.match():\tMatches pattern at the beginning of string\n",
        "- re.findall():\tReturns all matches as a list\n",
        "- re.finditer():\tReturns an iterator of match objects\n",
        "- re.sub():\tReplaces matches with another string\n",
        "- re.split():\tSplits string by pattern\n",
        "- re.compile():\tCompiles a regex for reuse\n",
        "\n",
        "🔹 Common Patterns\n",
        "\n",
        "- .:\tAny character (except newline)\n",
        "- \\d:\tDigit (0-9)\n",
        "- \\D:\tNon-digit\n",
        "- \\w:\tWord character (a-z, A-Z, 0-9, _)\n",
        "- \\W:\tNon-word character\n",
        "- \\s:\tWhitespace\n",
        "- \\S:\tNon-whitespace\n",
        "- ^:\tStart of string\n",
        "- $:\tEnd of string\n",
        "- [...]:\tAny character in brackets\n",
        "- [^...]:\tAny character not in brackets\n",
        "- '(a':\tb)\n",
        "- '*':\t0 or more repetitions\n",
        "- '+':\t1 or more repetitions\n",
        "- ?:\t0 or 1 repetition (optional)\n",
        "- {m}:\tExactly m repetitions\n",
        "- {m,n}:\tBetween m and n repetitions"
      ],
      "metadata": {
        "id": "QAeMzELi-Ov2"
      }
    },
    {
      "cell_type": "markdown",
      "source": [
        "# 👉👉👉 Follow Code_with_AS 👈👈👈\n",
        "\n",
        "#for more..."
      ],
      "metadata": {
        "id": "kNcEB3wGPN1M"
      }
    }
  ]
}