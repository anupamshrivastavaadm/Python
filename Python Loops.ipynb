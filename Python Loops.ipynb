{
  "nbformat": 4,
  "nbformat_minor": 0,
  "metadata": {
    "colab": {
      "provenance": []
    },
    "kernelspec": {
      "name": "python3",
      "display_name": "Python 3"
    },
    "language_info": {
      "name": "python"
    }
  },
  "cells": [
    {
      "cell_type": "markdown",
      "source": [
        "#Python Loops"
      ],
      "metadata": {
        "id": "Y2xHVnD8JTLa"
      }
    },
    {
      "cell_type": "markdown",
      "source": [
        "#1. Basic \"for\" Loop:\n",
        "\n",
        "The for loop in Python is used to iterate over a sequence\n",
        "\n",
        "(list, tuple, string, dictionary, etc.).\n",
        "\n",
        "    Syntax: for variable in iterable:\n",
        "              #code block"
      ],
      "metadata": {
        "id": "JiB6eVIzHDgJ"
      }
    },
    {
      "cell_type": "code",
      "source": [
        "fruits = [\"apple\", \"banana\", \"cherry\"]"
      ],
      "metadata": {
        "id": "8n6c0wFc4iCX"
      },
      "execution_count": 25,
      "outputs": []
    },
    {
      "cell_type": "code",
      "execution_count": 26,
      "metadata": {
        "id": "wNIBsnX3KZso",
        "colab": {
          "base_uri": "https://localhost:8080/"
        },
        "outputId": "0cdb575a-0b59-42ff-8713-578d98826a31"
      },
      "outputs": [
        {
          "output_type": "stream",
          "name": "stdout",
          "text": [
            "apple\n",
            "banana\n",
            "cherry\n"
          ]
        }
      ],
      "source": [
        "for fruit in fruits:\n",
        "    print(fruit)"
      ]
    },
    {
      "cell_type": "markdown",
      "source": [
        "#2. range() Function:\n",
        "\n",
        "range() is often used with for loops to repeat something a specific\n",
        "\n",
        "number of times.\n"
      ],
      "metadata": {
        "id": "vBkemPT5HsAy"
      }
    },
    {
      "cell_type": "code",
      "source": [
        "for i in range(5):       # 0 to 4\n",
        "    print(i)\n",
        "\n",
        "for i in range(2, 6):    # 2 to 5\n",
        "    print(i)\n",
        "\n",
        "for i in range(10, 0, -2):  # 10 to 2 (step -2)\n",
        "    print(i)\n"
      ],
      "metadata": {
        "colab": {
          "base_uri": "https://localhost:8080/"
        },
        "id": "-AsTvY35_k1x",
        "outputId": "a505a9b1-5380-4a21-e061-5bdf5ca1f9c1"
      },
      "execution_count": 4,
      "outputs": [
        {
          "output_type": "stream",
          "name": "stdout",
          "text": [
            "0\n",
            "1\n",
            "2\n",
            "3\n",
            "4\n",
            "2\n",
            "3\n",
            "4\n",
            "5\n",
            "10\n",
            "8\n",
            "6\n",
            "4\n",
            "2\n"
          ]
        }
      ]
    },
    {
      "cell_type": "markdown",
      "source": [
        "#3. Looping Through Different\n",
        "\n",
        "##Data Types:"
      ],
      "metadata": {
        "id": "2BD5jaABwBIt"
      }
    },
    {
      "cell_type": "code",
      "source": [
        "#List:\n",
        "\n",
        "for item in [1, 2, 3]:\n",
        "    print(item)\n"
      ],
      "metadata": {
        "colab": {
          "base_uri": "https://localhost:8080/"
        },
        "id": "JjDKpsEewLLy",
        "outputId": "1b2fe157-c9aa-4638-d25c-4ef39d9390a5"
      },
      "execution_count": 6,
      "outputs": [
        {
          "output_type": "stream",
          "name": "stdout",
          "text": [
            "1\n",
            "2\n",
            "3\n"
          ]
        }
      ]
    },
    {
      "cell_type": "code",
      "source": [
        "#String:\n",
        "\n",
        "for char in \"hello\":\n",
        "    print(char)\n"
      ],
      "metadata": {
        "colab": {
          "base_uri": "https://localhost:8080/"
        },
        "id": "VDrMY1ZUwMgu",
        "outputId": "596b8b6a-6637-4c4b-cb27-a70e9fced571"
      },
      "execution_count": 7,
      "outputs": [
        {
          "output_type": "stream",
          "name": "stdout",
          "text": [
            "h\n",
            "e\n",
            "l\n",
            "l\n",
            "o\n"
          ]
        }
      ]
    },
    {
      "cell_type": "code",
      "source": [
        "#Tuple:\n",
        "\n",
        "for item in (10, 20, 30):\n",
        "    print(item)\n"
      ],
      "metadata": {
        "colab": {
          "base_uri": "https://localhost:8080/"
        },
        "id": "qdMXBgkiwS6f",
        "outputId": "aa35157e-2b53-4f77-ce08-553b7cb40e05"
      },
      "execution_count": 8,
      "outputs": [
        {
          "output_type": "stream",
          "name": "stdout",
          "text": [
            "10\n",
            "20\n",
            "30\n"
          ]
        }
      ]
    },
    {
      "cell_type": "code",
      "source": [
        "#Dictionary (keys and values):\n",
        "\n",
        "my_dict = {\"a\": 1, \"b\": 2}\n",
        "for key in my_dict:\n",
        "    print(key, my_dict[key])\n",
        "\n",
        "for key, value in my_dict.items():\n",
        "    print(key, value)\n"
      ],
      "metadata": {
        "colab": {
          "base_uri": "https://localhost:8080/"
        },
        "id": "iS9x9iPUwXQd",
        "outputId": "4184435e-eddd-444a-84b4-1a757b555cb5"
      },
      "execution_count": 9,
      "outputs": [
        {
          "output_type": "stream",
          "name": "stdout",
          "text": [
            "a 1\n",
            "b 2\n",
            "a 1\n",
            "b 2\n"
          ]
        }
      ]
    },
    {
      "cell_type": "markdown",
      "source": [
        "#4. Nested for Loops:\n",
        "\n",
        "A for loop inside another for loop.\n",
        "\n",
        "Common Use Cases: 2D arrays, Printing patterns, Combinations"
      ],
      "metadata": {
        "id": "ygz04TVmweSr"
      }
    },
    {
      "cell_type": "code",
      "source": [
        "for i in range(3):\n",
        "    for j in range(2):\n",
        "        print(f\"i={i}, j={j}\")\n"
      ],
      "metadata": {
        "colab": {
          "base_uri": "https://localhost:8080/"
        },
        "id": "WqO4whBcwbIe",
        "outputId": "67d039bd-f20e-423a-fa84-937aeade45a8"
      },
      "execution_count": 10,
      "outputs": [
        {
          "output_type": "stream",
          "name": "stdout",
          "text": [
            "i=0, j=0\n",
            "i=0, j=1\n",
            "i=1, j=0\n",
            "i=1, j=1\n",
            "i=2, j=0\n",
            "i=2, j=1\n"
          ]
        }
      ]
    },
    {
      "cell_type": "markdown",
      "source": [
        "#5. Pattern Printing (Common Interview Use):"
      ],
      "metadata": {
        "id": "Es2KGjLdw6eM"
      }
    },
    {
      "cell_type": "code",
      "source": [
        "# Triangle pattern\n",
        "for i in range(1, 6):\n",
        "    for j in range(i):\n",
        "        print(\"*\", end=\"\")\n",
        "    print()\n"
      ],
      "metadata": {
        "colab": {
          "base_uri": "https://localhost:8080/"
        },
        "id": "i2q6InM_w6H4",
        "outputId": "74e7d1d8-0e22-4eeb-af89-0d82d09fb90e"
      },
      "execution_count": 11,
      "outputs": [
        {
          "output_type": "stream",
          "name": "stdout",
          "text": [
            "*\n",
            "**\n",
            "***\n",
            "****\n",
            "*****\n"
          ]
        }
      ]
    },
    {
      "cell_type": "markdown",
      "source": [
        "#6. break, continue, else:"
      ],
      "metadata": {
        "id": "MDjSWTClxG-n"
      }
    },
    {
      "cell_type": "markdown",
      "source": [
        "break – exit the loop early:"
      ],
      "metadata": {
        "id": "0CE3TJzexMep"
      }
    },
    {
      "cell_type": "code",
      "source": [
        "for i in range(5):\n",
        "    if i == 3:\n",
        "        break\n",
        "    print(i)\n"
      ],
      "metadata": {
        "colab": {
          "base_uri": "https://localhost:8080/"
        },
        "id": "ml1HQoQEwpgb",
        "outputId": "e450e68d-5db0-40e0-ea6a-04a0fcdb8f25"
      },
      "execution_count": 14,
      "outputs": [
        {
          "output_type": "stream",
          "name": "stdout",
          "text": [
            "0\n",
            "1\n",
            "2\n"
          ]
        }
      ]
    },
    {
      "cell_type": "markdown",
      "source": [
        "continue – skip the current iteration:"
      ],
      "metadata": {
        "id": "t6nZR6mixWPD"
      }
    },
    {
      "cell_type": "code",
      "source": [
        "for i in range(5):\n",
        "    if i == 2:\n",
        "        continue\n",
        "    print(i)\n"
      ],
      "metadata": {
        "colab": {
          "base_uri": "https://localhost:8080/"
        },
        "id": "qbfGK394xDou",
        "outputId": "1910c0d6-428d-4f8c-8c26-32a214f83621"
      },
      "execution_count": 15,
      "outputs": [
        {
          "output_type": "stream",
          "name": "stdout",
          "text": [
            "0\n",
            "1\n",
            "3\n",
            "4\n"
          ]
        }
      ]
    },
    {
      "cell_type": "markdown",
      "source": [
        "else with for:\n",
        "\n",
        "The else block runs only if the loop does not break."
      ],
      "metadata": {
        "id": "p0D0snI0xZmU"
      }
    },
    {
      "cell_type": "code",
      "source": [
        "for i in range(5):\n",
        "    print(i)\n",
        "else:\n",
        "    print(\"Loop finished!\")\n"
      ],
      "metadata": {
        "colab": {
          "base_uri": "https://localhost:8080/"
        },
        "id": "DA64Ls_UxYxv",
        "outputId": "47f78deb-e06c-4c4d-dcf7-fd96da037ad1"
      },
      "execution_count": 16,
      "outputs": [
        {
          "output_type": "stream",
          "name": "stdout",
          "text": [
            "0\n",
            "1\n",
            "2\n",
            "3\n",
            "4\n",
            "Loop finished!\n"
          ]
        }
      ]
    },
    {
      "cell_type": "markdown",
      "source": [
        "#7. List Comprehensions (Compact loops):"
      ],
      "metadata": {
        "id": "G_wdnc3CxlDT"
      }
    },
    {
      "cell_type": "code",
      "source": [
        "squares = [x*x for x in range(5)]\n",
        "print(squares)\n"
      ],
      "metadata": {
        "colab": {
          "base_uri": "https://localhost:8080/"
        },
        "id": "H84CiUYNxb9O",
        "outputId": "c0ad73cc-3413-4ed4-d06f-73f042c66f11"
      },
      "execution_count": 17,
      "outputs": [
        {
          "output_type": "stream",
          "name": "stdout",
          "text": [
            "[0, 1, 4, 9, 16]\n"
          ]
        }
      ]
    },
    {
      "cell_type": "markdown",
      "source": [
        "With condition:"
      ],
      "metadata": {
        "id": "NQdK1rEqxu8Q"
      }
    },
    {
      "cell_type": "code",
      "source": [
        "evens = [x for x in range(10) if x % 2 == 0]\n",
        "print(evens)"
      ],
      "metadata": {
        "colab": {
          "base_uri": "https://localhost:8080/"
        },
        "id": "KOiZaCRKxoOu",
        "outputId": "3cee2bea-4124-47d0-c096-708a1fd5908c"
      },
      "execution_count": 21,
      "outputs": [
        {
          "output_type": "stream",
          "name": "stdout",
          "text": [
            "[0, 2, 4, 6, 8]\n"
          ]
        }
      ]
    },
    {
      "cell_type": "markdown",
      "source": [
        "#8. Looping with enumerate() and zip():"
      ],
      "metadata": {
        "id": "vcglI0w2x9v-"
      }
    },
    {
      "cell_type": "markdown",
      "source": [
        "enumerate() – gives index and value"
      ],
      "metadata": {
        "id": "ZKGsVMVkyA3x"
      }
    },
    {
      "cell_type": "code",
      "source": [
        "for index, value in enumerate([\"a\", \"b\", \"c\"]):\n",
        "    print(index, value)\n"
      ],
      "metadata": {
        "colab": {
          "base_uri": "https://localhost:8080/"
        },
        "id": "l9zpMOjlxx9-",
        "outputId": "1c2f7cac-d67f-4236-b726-19a13b92edd2"
      },
      "execution_count": 22,
      "outputs": [
        {
          "output_type": "stream",
          "name": "stdout",
          "text": [
            "0 a\n",
            "1 b\n",
            "2 c\n"
          ]
        }
      ]
    },
    {
      "cell_type": "markdown",
      "source": [
        "zip() – loop over multiple iterables"
      ],
      "metadata": {
        "id": "a2XiveUWyDcx"
      }
    },
    {
      "cell_type": "code",
      "source": [
        "names = [\"Alice\", \"Bob\"]\n",
        "scores = [90, 80]\n",
        "\n",
        "for name, score in zip(names, scores):\n",
        "    print(f\"{name}: {score}\")\n"
      ],
      "metadata": {
        "colab": {
          "base_uri": "https://localhost:8080/"
        },
        "id": "WweZ2IN8yCyP",
        "outputId": "1c4c4be9-be25-4748-d11c-1cef202e240e"
      },
      "execution_count": 23,
      "outputs": [
        {
          "output_type": "stream",
          "name": "stdout",
          "text": [
            "Alice: 90\n",
            "Bob: 80\n"
          ]
        }
      ]
    },
    {
      "cell_type": "markdown",
      "source": [
        "#9. Nested Data Structures:"
      ],
      "metadata": {
        "id": "LDs2q0BSyL84"
      }
    },
    {
      "cell_type": "code",
      "source": [
        "matrix = [\n",
        "    [1, 2],\n",
        "    [3, 4],\n",
        "    [5, 6]\n",
        "]\n",
        "\n",
        "for row in matrix:\n",
        "    for element in row:\n",
        "        print(element, end=\" \")\n",
        "    print()\n"
      ],
      "metadata": {
        "colab": {
          "base_uri": "https://localhost:8080/"
        },
        "id": "W6BlYUhuyFFO",
        "outputId": "71a6229c-8aed-4d0d-c722-e9360f0f61b7"
      },
      "execution_count": 24,
      "outputs": [
        {
          "output_type": "stream",
          "name": "stdout",
          "text": [
            "1 2 \n",
            "3 4 \n",
            "5 6 \n"
          ]
        }
      ]
    },
    {
      "cell_type": "markdown",
      "source": [
        "#10. Practice Exercise Ideas:\n",
        "\n",
        "* Print multiplication table (1–10)\n",
        "* Print pyramid/star patterns\n",
        "* Find all prime numbers < 100\n",
        "* Flatten a 2D list\n",
        "* Loop through a dictionary of students and grades"
      ],
      "metadata": {
        "id": "LISqfCUGySEg"
      }
    },
    {
      "cell_type": "markdown",
      "source": [
        "#Follow @Code_with_AS for more..."
      ],
      "metadata": {
        "id": "6ut5m8tYyp4q"
      }
    }
  ]
}